{
  "cells": [
    {
      "cell_type": "markdown",
      "source": [
        "## **데이터 로드**"
      ],
      "metadata": {
        "id": "dZpoesjJguTC"
      }
    },
    {
      "cell_type": "code",
      "execution_count": 2,
      "metadata": {
        "id": "f88dij2Wp2pb",
        "colab": {
          "base_uri": "https://localhost:8080/"
        },
        "outputId": "f774b136-927d-43f8-c788-109e8cdb4db4"
      },
      "outputs": [
        {
          "output_type": "stream",
          "name": "stdout",
          "text": [
            "Mounted at /content/drive\n"
          ]
        }
      ],
      "source": [
        "from google.colab import drive\n",
        "drive.mount('/content/drive')"
      ]
    },
    {
      "cell_type": "code",
      "execution_count": 3,
      "metadata": {
        "id": "NqOU_C53xacg"
      },
      "outputs": [],
      "source": [
        "import pandas as pd\n",
        "import numpy as np\n",
        "import matplotlib.pyplot as plt\n",
        "from tensorflow.keras.preprocessing.text import Tokenizer\n",
        "from sklearn.feature_extraction.text import TfidfVectorizer\n",
        "from sklearn.model_selection import train_test_split\n",
        "from sklearn.svm import LinearSVC\n",
        "from sklearn.pipeline import Pipeline\n",
        "from sklearn.model_selection import GridSearchCV\n",
        "from sklearn.metrics import *\n",
        "from sklearn.linear_model import LogisticRegression\n",
        "from tqdm.notebook import tqdm\n",
        "import spacy\n",
        "from nltk.stem.snowball import SnowballStemmer"
      ]
    },
    {
      "cell_type": "code",
      "execution_count": 4,
      "metadata": {
        "id": "16PZwWBJoQqs"
      },
      "outputs": [],
      "source": [
        "data = pd.read_csv('/content/drive/MyDrive/spp_project/data_result.csv')"
      ]
    },
    {
      "cell_type": "code",
      "execution_count": 5,
      "metadata": {
        "colab": {
          "base_uri": "https://localhost:8080/",
          "height": 424
        },
        "id": "PdLKKghdrT5B",
        "outputId": "cbfe8839-1b9f-49bf-e2f2-9ac2b5c61e3e"
      },
      "outputs": [
        {
          "output_type": "execute_result",
          "data": {
            "text/plain": [
              "       Unnamed: 0                                              posts  type\n",
              "0               0  know tool use interaction people excuse antiso...  INTJ\n",
              "1               1  rap music ehh opp yeah know valid well know fa...  INTJ\n",
              "2               2  preferably hd low except wew lad video mind go...  INTJ\n",
              "3               3  drink like wish could drink red wine give head...  INTJ\n",
              "4               4  space program ah bad deal meing freelance max ...  INTJ\n",
              "...           ...                                                ...   ...\n",
              "98161       98161  refuel ne motivation general nature mind bui n...  INFP\n",
              "98162       98162  confidence btw loon oh god absolutely also str...  INFP\n",
              "98163       98163  person see actually help build confidence able...  INFP\n",
              "98164       98164  eat good come lose weight lonerm excercise sep...  INFP\n",
              "98165           9                                                NaN   NaN\n",
              "\n",
              "[98166 rows x 3 columns]"
            ],
            "text/html": [
              "\n",
              "  <div id=\"df-ab5cd2bc-3121-4260-99fb-560976d0356a\" class=\"colab-df-container\">\n",
              "    <div>\n",
              "<style scoped>\n",
              "    .dataframe tbody tr th:only-of-type {\n",
              "        vertical-align: middle;\n",
              "    }\n",
              "\n",
              "    .dataframe tbody tr th {\n",
              "        vertical-align: top;\n",
              "    }\n",
              "\n",
              "    .dataframe thead th {\n",
              "        text-align: right;\n",
              "    }\n",
              "</style>\n",
              "<table border=\"1\" class=\"dataframe\">\n",
              "  <thead>\n",
              "    <tr style=\"text-align: right;\">\n",
              "      <th></th>\n",
              "      <th>Unnamed: 0</th>\n",
              "      <th>posts</th>\n",
              "      <th>type</th>\n",
              "    </tr>\n",
              "  </thead>\n",
              "  <tbody>\n",
              "    <tr>\n",
              "      <th>0</th>\n",
              "      <td>0</td>\n",
              "      <td>know tool use interaction people excuse antiso...</td>\n",
              "      <td>INTJ</td>\n",
              "    </tr>\n",
              "    <tr>\n",
              "      <th>1</th>\n",
              "      <td>1</td>\n",
              "      <td>rap music ehh opp yeah know valid well know fa...</td>\n",
              "      <td>INTJ</td>\n",
              "    </tr>\n",
              "    <tr>\n",
              "      <th>2</th>\n",
              "      <td>2</td>\n",
              "      <td>preferably hd low except wew lad video mind go...</td>\n",
              "      <td>INTJ</td>\n",
              "    </tr>\n",
              "    <tr>\n",
              "      <th>3</th>\n",
              "      <td>3</td>\n",
              "      <td>drink like wish could drink red wine give head...</td>\n",
              "      <td>INTJ</td>\n",
              "    </tr>\n",
              "    <tr>\n",
              "      <th>4</th>\n",
              "      <td>4</td>\n",
              "      <td>space program ah bad deal meing freelance max ...</td>\n",
              "      <td>INTJ</td>\n",
              "    </tr>\n",
              "    <tr>\n",
              "      <th>...</th>\n",
              "      <td>...</td>\n",
              "      <td>...</td>\n",
              "      <td>...</td>\n",
              "    </tr>\n",
              "    <tr>\n",
              "      <th>98161</th>\n",
              "      <td>98161</td>\n",
              "      <td>refuel ne motivation general nature mind bui n...</td>\n",
              "      <td>INFP</td>\n",
              "    </tr>\n",
              "    <tr>\n",
              "      <th>98162</th>\n",
              "      <td>98162</td>\n",
              "      <td>confidence btw loon oh god absolutely also str...</td>\n",
              "      <td>INFP</td>\n",
              "    </tr>\n",
              "    <tr>\n",
              "      <th>98163</th>\n",
              "      <td>98163</td>\n",
              "      <td>person see actually help build confidence able...</td>\n",
              "      <td>INFP</td>\n",
              "    </tr>\n",
              "    <tr>\n",
              "      <th>98164</th>\n",
              "      <td>98164</td>\n",
              "      <td>eat good come lose weight lonerm excercise sep...</td>\n",
              "      <td>INFP</td>\n",
              "    </tr>\n",
              "    <tr>\n",
              "      <th>98165</th>\n",
              "      <td>9</td>\n",
              "      <td>NaN</td>\n",
              "      <td>NaN</td>\n",
              "    </tr>\n",
              "  </tbody>\n",
              "</table>\n",
              "<p>98166 rows × 3 columns</p>\n",
              "</div>\n",
              "    <div class=\"colab-df-buttons\">\n",
              "\n",
              "  <div class=\"colab-df-container\">\n",
              "    <button class=\"colab-df-convert\" onclick=\"convertToInteractive('df-ab5cd2bc-3121-4260-99fb-560976d0356a')\"\n",
              "            title=\"Convert this dataframe to an interactive table.\"\n",
              "            style=\"display:none;\">\n",
              "\n",
              "  <svg xmlns=\"http://www.w3.org/2000/svg\" height=\"24px\" viewBox=\"0 -960 960 960\">\n",
              "    <path d=\"M120-120v-720h720v720H120Zm60-500h600v-160H180v160Zm220 220h160v-160H400v160Zm0 220h160v-160H400v160ZM180-400h160v-160H180v160Zm440 0h160v-160H620v160ZM180-180h160v-160H180v160Zm440 0h160v-160H620v160Z\"/>\n",
              "  </svg>\n",
              "    </button>\n",
              "\n",
              "  <style>\n",
              "    .colab-df-container {\n",
              "      display:flex;\n",
              "      gap: 12px;\n",
              "    }\n",
              "\n",
              "    .colab-df-convert {\n",
              "      background-color: #E8F0FE;\n",
              "      border: none;\n",
              "      border-radius: 50%;\n",
              "      cursor: pointer;\n",
              "      display: none;\n",
              "      fill: #1967D2;\n",
              "      height: 32px;\n",
              "      padding: 0 0 0 0;\n",
              "      width: 32px;\n",
              "    }\n",
              "\n",
              "    .colab-df-convert:hover {\n",
              "      background-color: #E2EBFA;\n",
              "      box-shadow: 0px 1px 2px rgba(60, 64, 67, 0.3), 0px 1px 3px 1px rgba(60, 64, 67, 0.15);\n",
              "      fill: #174EA6;\n",
              "    }\n",
              "\n",
              "    .colab-df-buttons div {\n",
              "      margin-bottom: 4px;\n",
              "    }\n",
              "\n",
              "    [theme=dark] .colab-df-convert {\n",
              "      background-color: #3B4455;\n",
              "      fill: #D2E3FC;\n",
              "    }\n",
              "\n",
              "    [theme=dark] .colab-df-convert:hover {\n",
              "      background-color: #434B5C;\n",
              "      box-shadow: 0px 1px 3px 1px rgba(0, 0, 0, 0.15);\n",
              "      filter: drop-shadow(0px 1px 2px rgba(0, 0, 0, 0.3));\n",
              "      fill: #FFFFFF;\n",
              "    }\n",
              "  </style>\n",
              "\n",
              "    <script>\n",
              "      const buttonEl =\n",
              "        document.querySelector('#df-ab5cd2bc-3121-4260-99fb-560976d0356a button.colab-df-convert');\n",
              "      buttonEl.style.display =\n",
              "        google.colab.kernel.accessAllowed ? 'block' : 'none';\n",
              "\n",
              "      async function convertToInteractive(key) {\n",
              "        const element = document.querySelector('#df-ab5cd2bc-3121-4260-99fb-560976d0356a');\n",
              "        const dataTable =\n",
              "          await google.colab.kernel.invokeFunction('convertToInteractive',\n",
              "                                                    [key], {});\n",
              "        if (!dataTable) return;\n",
              "\n",
              "        const docLinkHtml = 'Like what you see? Visit the ' +\n",
              "          '<a target=\"_blank\" href=https://colab.research.google.com/notebooks/data_table.ipynb>data table notebook</a>'\n",
              "          + ' to learn more about interactive tables.';\n",
              "        element.innerHTML = '';\n",
              "        dataTable['output_type'] = 'display_data';\n",
              "        await google.colab.output.renderOutput(dataTable, element);\n",
              "        const docLink = document.createElement('div');\n",
              "        docLink.innerHTML = docLinkHtml;\n",
              "        element.appendChild(docLink);\n",
              "      }\n",
              "    </script>\n",
              "  </div>\n",
              "\n",
              "\n",
              "<div id=\"df-8e19af64-1d86-4b72-af10-13477929a056\">\n",
              "  <button class=\"colab-df-quickchart\" onclick=\"quickchart('df-8e19af64-1d86-4b72-af10-13477929a056')\"\n",
              "            title=\"Suggest charts.\"\n",
              "            style=\"display:none;\">\n",
              "\n",
              "<svg xmlns=\"http://www.w3.org/2000/svg\" height=\"24px\"viewBox=\"0 0 24 24\"\n",
              "     width=\"24px\">\n",
              "    <g>\n",
              "        <path d=\"M19 3H5c-1.1 0-2 .9-2 2v14c0 1.1.9 2 2 2h14c1.1 0 2-.9 2-2V5c0-1.1-.9-2-2-2zM9 17H7v-7h2v7zm4 0h-2V7h2v10zm4 0h-2v-4h2v4z\"/>\n",
              "    </g>\n",
              "</svg>\n",
              "  </button>\n",
              "\n",
              "<style>\n",
              "  .colab-df-quickchart {\n",
              "    background-color: #E8F0FE;\n",
              "    border: none;\n",
              "    border-radius: 50%;\n",
              "    cursor: pointer;\n",
              "    display: none;\n",
              "    fill: #1967D2;\n",
              "    height: 32px;\n",
              "    padding: 0 0 0 0;\n",
              "    width: 32px;\n",
              "  }\n",
              "\n",
              "  .colab-df-quickchart:hover {\n",
              "    background-color: #E2EBFA;\n",
              "    box-shadow: 0px 1px 2px rgba(60, 64, 67, 0.3), 0px 1px 3px 1px rgba(60, 64, 67, 0.15);\n",
              "    fill: #174EA6;\n",
              "  }\n",
              "\n",
              "  [theme=dark] .colab-df-quickchart {\n",
              "    background-color: #3B4455;\n",
              "    fill: #D2E3FC;\n",
              "  }\n",
              "\n",
              "  [theme=dark] .colab-df-quickchart:hover {\n",
              "    background-color: #434B5C;\n",
              "    box-shadow: 0px 1px 3px 1px rgba(0, 0, 0, 0.15);\n",
              "    filter: drop-shadow(0px 1px 2px rgba(0, 0, 0, 0.3));\n",
              "    fill: #FFFFFF;\n",
              "  }\n",
              "</style>\n",
              "\n",
              "  <script>\n",
              "    async function quickchart(key) {\n",
              "      const charts = await google.colab.kernel.invokeFunction(\n",
              "          'suggestCharts', [key], {});\n",
              "    }\n",
              "    (() => {\n",
              "      let quickchartButtonEl =\n",
              "        document.querySelector('#df-8e19af64-1d86-4b72-af10-13477929a056 button');\n",
              "      quickchartButtonEl.style.display =\n",
              "        google.colab.kernel.accessAllowed ? 'block' : 'none';\n",
              "    })();\n",
              "  </script>\n",
              "</div>\n",
              "    </div>\n",
              "  </div>\n"
            ]
          },
          "metadata": {},
          "execution_count": 5
        }
      ],
      "source": [
        "data"
      ]
    },
    {
      "cell_type": "code",
      "source": [
        "data = data.drop(['Unnamed: 0'], axis=1)"
      ],
      "metadata": {
        "id": "TIfWKVc7QSuK"
      },
      "execution_count": 6,
      "outputs": []
    },
    {
      "cell_type": "code",
      "source": [
        "data= data.dropna(axis=0)"
      ],
      "metadata": {
        "id": "2dUXbmx_Regz"
      },
      "execution_count": 7,
      "outputs": []
    },
    {
      "cell_type": "code",
      "source": [
        "data"
      ],
      "metadata": {
        "colab": {
          "base_uri": "https://localhost:8080/",
          "height": 424
        },
        "id": "OP11JOggQZtB",
        "outputId": "718e3490-d87a-42b6-de5a-5a2da5a44d8d"
      },
      "execution_count": 8,
      "outputs": [
        {
          "output_type": "execute_result",
          "data": {
            "text/plain": [
              "                                                   posts  type\n",
              "0      know tool use interaction people excuse antiso...  INTJ\n",
              "1      rap music ehh opp yeah know valid well know fa...  INTJ\n",
              "2      preferably hd low except wew lad video mind go...  INTJ\n",
              "3      drink like wish could drink red wine give head...  INTJ\n",
              "4      space program ah bad deal meing freelance max ...  INTJ\n",
              "...                                                  ...   ...\n",
              "98160  much interest activity outside school gymnasti...  INFP\n",
              "98161  refuel ne motivation general nature mind bui n...  INFP\n",
              "98162  confidence btw loon oh god absolutely also str...  INFP\n",
              "98163  person see actually help build confidence able...  INFP\n",
              "98164  eat good come lose weight lonerm excercise sep...  INFP\n",
              "\n",
              "[98164 rows x 2 columns]"
            ],
            "text/html": [
              "\n",
              "  <div id=\"df-fbc1eda3-30a5-4a8f-a1ba-82d57513068b\" class=\"colab-df-container\">\n",
              "    <div>\n",
              "<style scoped>\n",
              "    .dataframe tbody tr th:only-of-type {\n",
              "        vertical-align: middle;\n",
              "    }\n",
              "\n",
              "    .dataframe tbody tr th {\n",
              "        vertical-align: top;\n",
              "    }\n",
              "\n",
              "    .dataframe thead th {\n",
              "        text-align: right;\n",
              "    }\n",
              "</style>\n",
              "<table border=\"1\" class=\"dataframe\">\n",
              "  <thead>\n",
              "    <tr style=\"text-align: right;\">\n",
              "      <th></th>\n",
              "      <th>posts</th>\n",
              "      <th>type</th>\n",
              "    </tr>\n",
              "  </thead>\n",
              "  <tbody>\n",
              "    <tr>\n",
              "      <th>0</th>\n",
              "      <td>know tool use interaction people excuse antiso...</td>\n",
              "      <td>INTJ</td>\n",
              "    </tr>\n",
              "    <tr>\n",
              "      <th>1</th>\n",
              "      <td>rap music ehh opp yeah know valid well know fa...</td>\n",
              "      <td>INTJ</td>\n",
              "    </tr>\n",
              "    <tr>\n",
              "      <th>2</th>\n",
              "      <td>preferably hd low except wew lad video mind go...</td>\n",
              "      <td>INTJ</td>\n",
              "    </tr>\n",
              "    <tr>\n",
              "      <th>3</th>\n",
              "      <td>drink like wish could drink red wine give head...</td>\n",
              "      <td>INTJ</td>\n",
              "    </tr>\n",
              "    <tr>\n",
              "      <th>4</th>\n",
              "      <td>space program ah bad deal meing freelance max ...</td>\n",
              "      <td>INTJ</td>\n",
              "    </tr>\n",
              "    <tr>\n",
              "      <th>...</th>\n",
              "      <td>...</td>\n",
              "      <td>...</td>\n",
              "    </tr>\n",
              "    <tr>\n",
              "      <th>98160</th>\n",
              "      <td>much interest activity outside school gymnasti...</td>\n",
              "      <td>INFP</td>\n",
              "    </tr>\n",
              "    <tr>\n",
              "      <th>98161</th>\n",
              "      <td>refuel ne motivation general nature mind bui n...</td>\n",
              "      <td>INFP</td>\n",
              "    </tr>\n",
              "    <tr>\n",
              "      <th>98162</th>\n",
              "      <td>confidence btw loon oh god absolutely also str...</td>\n",
              "      <td>INFP</td>\n",
              "    </tr>\n",
              "    <tr>\n",
              "      <th>98163</th>\n",
              "      <td>person see actually help build confidence able...</td>\n",
              "      <td>INFP</td>\n",
              "    </tr>\n",
              "    <tr>\n",
              "      <th>98164</th>\n",
              "      <td>eat good come lose weight lonerm excercise sep...</td>\n",
              "      <td>INFP</td>\n",
              "    </tr>\n",
              "  </tbody>\n",
              "</table>\n",
              "<p>98164 rows × 2 columns</p>\n",
              "</div>\n",
              "    <div class=\"colab-df-buttons\">\n",
              "\n",
              "  <div class=\"colab-df-container\">\n",
              "    <button class=\"colab-df-convert\" onclick=\"convertToInteractive('df-fbc1eda3-30a5-4a8f-a1ba-82d57513068b')\"\n",
              "            title=\"Convert this dataframe to an interactive table.\"\n",
              "            style=\"display:none;\">\n",
              "\n",
              "  <svg xmlns=\"http://www.w3.org/2000/svg\" height=\"24px\" viewBox=\"0 -960 960 960\">\n",
              "    <path d=\"M120-120v-720h720v720H120Zm60-500h600v-160H180v160Zm220 220h160v-160H400v160Zm0 220h160v-160H400v160ZM180-400h160v-160H180v160Zm440 0h160v-160H620v160ZM180-180h160v-160H180v160Zm440 0h160v-160H620v160Z\"/>\n",
              "  </svg>\n",
              "    </button>\n",
              "\n",
              "  <style>\n",
              "    .colab-df-container {\n",
              "      display:flex;\n",
              "      gap: 12px;\n",
              "    }\n",
              "\n",
              "    .colab-df-convert {\n",
              "      background-color: #E8F0FE;\n",
              "      border: none;\n",
              "      border-radius: 50%;\n",
              "      cursor: pointer;\n",
              "      display: none;\n",
              "      fill: #1967D2;\n",
              "      height: 32px;\n",
              "      padding: 0 0 0 0;\n",
              "      width: 32px;\n",
              "    }\n",
              "\n",
              "    .colab-df-convert:hover {\n",
              "      background-color: #E2EBFA;\n",
              "      box-shadow: 0px 1px 2px rgba(60, 64, 67, 0.3), 0px 1px 3px 1px rgba(60, 64, 67, 0.15);\n",
              "      fill: #174EA6;\n",
              "    }\n",
              "\n",
              "    .colab-df-buttons div {\n",
              "      margin-bottom: 4px;\n",
              "    }\n",
              "\n",
              "    [theme=dark] .colab-df-convert {\n",
              "      background-color: #3B4455;\n",
              "      fill: #D2E3FC;\n",
              "    }\n",
              "\n",
              "    [theme=dark] .colab-df-convert:hover {\n",
              "      background-color: #434B5C;\n",
              "      box-shadow: 0px 1px 3px 1px rgba(0, 0, 0, 0.15);\n",
              "      filter: drop-shadow(0px 1px 2px rgba(0, 0, 0, 0.3));\n",
              "      fill: #FFFFFF;\n",
              "    }\n",
              "  </style>\n",
              "\n",
              "    <script>\n",
              "      const buttonEl =\n",
              "        document.querySelector('#df-fbc1eda3-30a5-4a8f-a1ba-82d57513068b button.colab-df-convert');\n",
              "      buttonEl.style.display =\n",
              "        google.colab.kernel.accessAllowed ? 'block' : 'none';\n",
              "\n",
              "      async function convertToInteractive(key) {\n",
              "        const element = document.querySelector('#df-fbc1eda3-30a5-4a8f-a1ba-82d57513068b');\n",
              "        const dataTable =\n",
              "          await google.colab.kernel.invokeFunction('convertToInteractive',\n",
              "                                                    [key], {});\n",
              "        if (!dataTable) return;\n",
              "\n",
              "        const docLinkHtml = 'Like what you see? Visit the ' +\n",
              "          '<a target=\"_blank\" href=https://colab.research.google.com/notebooks/data_table.ipynb>data table notebook</a>'\n",
              "          + ' to learn more about interactive tables.';\n",
              "        element.innerHTML = '';\n",
              "        dataTable['output_type'] = 'display_data';\n",
              "        await google.colab.output.renderOutput(dataTable, element);\n",
              "        const docLink = document.createElement('div');\n",
              "        docLink.innerHTML = docLinkHtml;\n",
              "        element.appendChild(docLink);\n",
              "      }\n",
              "    </script>\n",
              "  </div>\n",
              "\n",
              "\n",
              "<div id=\"df-8bd69f75-1d51-4ebd-872a-d4de6d91376c\">\n",
              "  <button class=\"colab-df-quickchart\" onclick=\"quickchart('df-8bd69f75-1d51-4ebd-872a-d4de6d91376c')\"\n",
              "            title=\"Suggest charts.\"\n",
              "            style=\"display:none;\">\n",
              "\n",
              "<svg xmlns=\"http://www.w3.org/2000/svg\" height=\"24px\"viewBox=\"0 0 24 24\"\n",
              "     width=\"24px\">\n",
              "    <g>\n",
              "        <path d=\"M19 3H5c-1.1 0-2 .9-2 2v14c0 1.1.9 2 2 2h14c1.1 0 2-.9 2-2V5c0-1.1-.9-2-2-2zM9 17H7v-7h2v7zm4 0h-2V7h2v10zm4 0h-2v-4h2v4z\"/>\n",
              "    </g>\n",
              "</svg>\n",
              "  </button>\n",
              "\n",
              "<style>\n",
              "  .colab-df-quickchart {\n",
              "    background-color: #E8F0FE;\n",
              "    border: none;\n",
              "    border-radius: 50%;\n",
              "    cursor: pointer;\n",
              "    display: none;\n",
              "    fill: #1967D2;\n",
              "    height: 32px;\n",
              "    padding: 0 0 0 0;\n",
              "    width: 32px;\n",
              "  }\n",
              "\n",
              "  .colab-df-quickchart:hover {\n",
              "    background-color: #E2EBFA;\n",
              "    box-shadow: 0px 1px 2px rgba(60, 64, 67, 0.3), 0px 1px 3px 1px rgba(60, 64, 67, 0.15);\n",
              "    fill: #174EA6;\n",
              "  }\n",
              "\n",
              "  [theme=dark] .colab-df-quickchart {\n",
              "    background-color: #3B4455;\n",
              "    fill: #D2E3FC;\n",
              "  }\n",
              "\n",
              "  [theme=dark] .colab-df-quickchart:hover {\n",
              "    background-color: #434B5C;\n",
              "    box-shadow: 0px 1px 3px 1px rgba(0, 0, 0, 0.15);\n",
              "    filter: drop-shadow(0px 1px 2px rgba(0, 0, 0, 0.3));\n",
              "    fill: #FFFFFF;\n",
              "  }\n",
              "</style>\n",
              "\n",
              "  <script>\n",
              "    async function quickchart(key) {\n",
              "      const charts = await google.colab.kernel.invokeFunction(\n",
              "          'suggestCharts', [key], {});\n",
              "    }\n",
              "    (() => {\n",
              "      let quickchartButtonEl =\n",
              "        document.querySelector('#df-8bd69f75-1d51-4ebd-872a-d4de6d91376c button');\n",
              "      quickchartButtonEl.style.display =\n",
              "        google.colab.kernel.accessAllowed ? 'block' : 'none';\n",
              "    })();\n",
              "  </script>\n",
              "</div>\n",
              "    </div>\n",
              "  </div>\n"
            ]
          },
          "metadata": {},
          "execution_count": 8
        }
      ]
    },
    {
      "cell_type": "markdown",
      "metadata": {
        "id": "n-oZxTQiw1Lm"
      },
      "source": [
        "## **Encoding**"
      ]
    },
    {
      "cell_type": "code",
      "source": [
        "from sklearn.preprocessing import LabelEncoder, OneHotEncoder\n",
        "\n",
        "# SMOTE를 사용하기 위해서 예측 변수, 설명 변수 모두 인코딩\n",
        "encoder_X = OneHotEncoder()\n",
        "encoded_X = encoder_X.fit_transform(data['posts'].to_numpy().reshape(-1, 1))\n",
        "encoder_y = LabelEncoder()\n",
        "encoded_y = encoder_y.fit_transform(data['type'].to_numpy().reshape(-1, 1))"
      ],
      "metadata": {
        "colab": {
          "base_uri": "https://localhost:8080/"
        },
        "id": "kUQdZDc-atkP",
        "outputId": "4c2804ae-98af-42f9-8ad2-2782c79c96cd"
      },
      "execution_count": 10,
      "outputs": [
        {
          "output_type": "stream",
          "name": "stderr",
          "text": [
            "/usr/local/lib/python3.10/dist-packages/sklearn/preprocessing/_label.py:116: DataConversionWarning: A column-vector y was passed when a 1d array was expected. Please change the shape of y to (n_samples, ), for example using ravel().\n",
            "  y = column_or_1d(y, warn=True)\n"
          ]
        }
      ]
    },
    {
      "cell_type": "code",
      "source": [
        "encoded_y"
      ],
      "metadata": {
        "colab": {
          "base_uri": "https://localhost:8080/"
        },
        "id": "wm5VnvWYe00i",
        "outputId": "650b6041-e15e-4497-c536-c2d3cf603f69"
      },
      "execution_count": 11,
      "outputs": [
        {
          "output_type": "execute_result",
          "data": {
            "text/plain": [
              "array([10, 10, 10, ...,  9,  9,  9])"
            ]
          },
          "metadata": {},
          "execution_count": 11
        }
      ]
    },
    {
      "cell_type": "code",
      "source": [
        "unique_array=np.unique(encoded_y)\n",
        "\n",
        "print(unique_array)"
      ],
      "metadata": {
        "colab": {
          "base_uri": "https://localhost:8080/"
        },
        "id": "M_QNzC92bkPG",
        "outputId": "af3189ce-6eef-4da3-ee28-97ba64c613f6"
      },
      "execution_count": 12,
      "outputs": [
        {
          "output_type": "stream",
          "name": "stdout",
          "text": [
            "[ 0  1  2  3  4  5  6  7  8  9 10 11 12 13 14 15]\n"
          ]
        }
      ]
    },
    {
      "cell_type": "markdown",
      "source": [
        "## **SMOTE 기법 적용: 클래스 불균형 해소**"
      ],
      "metadata": {
        "id": "aCcHnPshoO6I"
      }
    },
    {
      "cell_type": "code",
      "source": [
        "!pip install imblearn"
      ],
      "metadata": {
        "colab": {
          "base_uri": "https://localhost:8080/"
        },
        "id": "mbO4xocQTCXj",
        "outputId": "979783e7-02f1-45f9-8b37-a7aec63f8aa7"
      },
      "execution_count": 13,
      "outputs": [
        {
          "output_type": "stream",
          "name": "stdout",
          "text": [
            "Collecting imblearn\n",
            "  Downloading imblearn-0.0-py2.py3-none-any.whl (1.9 kB)\n",
            "Requirement already satisfied: imbalanced-learn in /usr/local/lib/python3.10/dist-packages (from imblearn) (0.10.1)\n",
            "Requirement already satisfied: numpy>=1.17.3 in /usr/local/lib/python3.10/dist-packages (from imbalanced-learn->imblearn) (1.23.5)\n",
            "Requirement already satisfied: scipy>=1.3.2 in /usr/local/lib/python3.10/dist-packages (from imbalanced-learn->imblearn) (1.10.1)\n",
            "Requirement already satisfied: scikit-learn>=1.0.2 in /usr/local/lib/python3.10/dist-packages (from imbalanced-learn->imblearn) (1.2.2)\n",
            "Requirement already satisfied: joblib>=1.1.1 in /usr/local/lib/python3.10/dist-packages (from imbalanced-learn->imblearn) (1.3.2)\n",
            "Requirement already satisfied: threadpoolctl>=2.0.0 in /usr/local/lib/python3.10/dist-packages (from imbalanced-learn->imblearn) (3.2.0)\n",
            "Installing collected packages: imblearn\n",
            "Successfully installed imblearn-0.0\n"
          ]
        }
      ]
    },
    {
      "cell_type": "code",
      "source": [
        "import sklearn\n",
        "from imblearn.over_sampling import SMOTE\n",
        "\n",
        "# SMOTE 적용\n",
        "smote = SMOTE(random_state=42)\n",
        "X_resampled, y_resampled = smote.fit_resample(encoded_X, encoded_y)"
      ],
      "metadata": {
        "id": "uTiiOLncoUUp"
      },
      "execution_count": 51,
      "outputs": []
    },
    {
      "cell_type": "markdown",
      "source": [
        "## **Decoding**"
      ],
      "metadata": {
        "id": "lnh9Ak9khKpI"
      }
    },
    {
      "cell_type": "code",
      "source": [
        "# 인코딩한 변수들을 다시 문자열로 디코딩하는 함수 정의\n",
        "def text_inverse_transform_X(encoded_data, encoder):\n",
        "    decoded_data = encoder.inverse_transform(encoded_data)\n",
        "    return decoded_data\n",
        "\n",
        "def text_inverse_transform_y(encoded_data, encoder):\n",
        "    decoded_data = encoder.inverse_transform(encoded_data)\n",
        "    return decoded_data"
      ],
      "metadata": {
        "id": "OrpyPtcvjXOJ"
      },
      "execution_count": 15,
      "outputs": []
    },
    {
      "cell_type": "code",
      "source": [
        "# 예측 변수, 설명 변수 디코딩\n",
        "X_data = text_inverse_transform_X(X_resampled, encoder_X)\n",
        "y_data = text_inverse_transform_y(y_resampled, encoder_y)"
      ],
      "metadata": {
        "id": "-w4_zqmXhx2d"
      },
      "execution_count": 16,
      "outputs": []
    },
    {
      "cell_type": "code",
      "source": [
        "y_data"
      ],
      "metadata": {
        "colab": {
          "base_uri": "https://localhost:8080/"
        },
        "id": "s1BQMSmaj1ai",
        "outputId": "6fec8247-9de4-4a5d-d0c3-c2b4f4fe32e8"
      },
      "execution_count": 17,
      "outputs": [
        {
          "output_type": "execute_result",
          "data": {
            "text/plain": [
              "array(['INTJ', 'INTJ', 'INTJ', ..., 'ISTP', 'ISTP', 'ISTP'], dtype=object)"
            ]
          },
          "metadata": {},
          "execution_count": 17
        }
      ]
    },
    {
      "cell_type": "code",
      "source": [
        "X_data"
      ],
      "metadata": {
        "colab": {
          "base_uri": "https://localhost:8080/"
        },
        "id": "d2v4fQMsj3uP",
        "outputId": "721beafd-741d-4603-b6c0-d01a1d8ce3cb"
      },
      "execution_count": 18,
      "outputs": [
        {
          "output_type": "execute_result",
          "data": {
            "text/plain": [
              "array([['know tool use interaction people excuse antisocial truly enlighten mastermind know would count pet peeze something time matter people either whether group people mall never see best friend sit outside conversation jsut listen want interject sit formulate say wait inject argument thought find fascinate sit watch people talk people fascinate sit class watch different people find intrigue dad stand look like line safeway watch people home talk people like think military job people voluntarily go job important show deference endanger live glorify way civilian think pretty ignorant general think military necessary defense mechanism political tactic feel like specifically invest much money could put money education whatnot though personally sound budget aernative really comment one way base two politician eye year ago come name somewhat important kinda role model nowadays pick keep score individual level mean little vary accord number condition day may score high others low sweat really good cast physiotherapist like fiberglass cast break arm whatever sometimes want take picture beast put someone arm sadly people blind brilliance need tell directly wave arm frantically totally beyond oblivious get good eye contact help lot start find like attention get opposite sex notice however gay men tend little aggressive always walk away flatter like alcohol bad start generally keep go pas run money even mention fact crave cocaine drink political power mainly desire form power okay status still never study day life never learn study feel like real whatever reason college prepare recieve people like depend career introductory course help start rid bike write essay etc choose career least stimulate mind expand perspective reality without college like kiss sound ear yup roll end quite strange confession time mind wish people le judgemental self perceive flaw run situation person confess something expect judge one way another freak realize judge gasp human interpret acknowledgement sign terrible person agree bad impulse ditch safe place quickly become somewhere dump emotional trash gui free interest play role mind noise midnight still go make really cranky lol already know autistic even know asd associate people mind two even remotely similar card conspiracy hallmark post office long enough people whether individual people government conglomerate corporation understand biodiversity something need fund even though make money instead insurance policy fine aka negative external form cost need separate positive surplus cost much thing like seed bank visualize cost percent farm benefit cost yet need fund separately individual farmer individual farmer corporation think well someone else people free rider problem seed bank never get set stuff like government capitalism may provide innovation government set regulation prevent negative consequence unintentional externality seed bank get set half thousand differents solution perhaps general tax commerce usage fee similar california recycle fee electronics form donation pledge system regardless need get seed bank get expert truely know enough need biodiversity seed farm whether enough seed farm different location properly fund amp bsp say expert know enough due single college class involve economics say economic class involve lot history use case study green revolution'],\n",
              "       ['rap music ehh opp yeah know valid well know fact people like socialize party even personality let alone personality type reason remain mystery likely function stack see party goer barely function function stack well fact even get two together nigh impossible lead entire personality consist shadow function though theorize widely dismiss though may help explain inherent love night life like something stop apply eliminate genuine character flaw quickly notice rationalisation vote trump basically hillary attractive candidate lacklustre corrupt beg question president racist sexist bad really care le either way judge quality popularity stop pussy something swing go bar pick random one night stand also apps like tinder casual sex unattractive time energy relationship hire prostitute kind thing appeal masturbate use pornography imagination choice want commit relationship give advice think cover option take point realize spend much time try educate win topic reason waste energy even inflammatory topic smile let go consider personal failure let emotion get best ironically think process come read book date woman really really hot like walk heater kinda hot aggressive like debate find amuse literally come new rule jungian theory work base anecdotal evidence somehow make right admit good objective information really hold find research back claim get back liam nesson realization couple general truth get people tend act nice normal around one three reason want something nice normal everyone face exception say lot genuinely like people pursue call text visit unprompted fall first third category quickly determine two nature conversation people like quickly point flaw call many thing awkward weird different common theme surprise retrospect personality type rare among general population never want mindless classify conversation social activity source awkwardness defect people stop develop mentally onset puberty accept almost everyone front mental maturity year old society make much sense date toy game cheat bully tease gossip entertainment choice clique fashion bother go year high school reunion guarantee conversation cluster group would change kid get fat old imagine frodo journey mordor hard long may get lose time along way many hardship go hard get even almost may want give finally reach goal find special person world become good place forget ring always bad idea business broad field know programmer ob create something perfect take sweet time library rather crud tool analogy make nice chisel rather wooden bowl seem want carve niche become expert something change fast make money way something ntjs would enough patience master something obviously motivate notice correct act public let emotion private people close sup adolf luck could squander father money could nobody people inherit money time million seed money nothing term business development especially new york city incredibly hard work intelligent least come business anyone say otherwise either idiot blind partisanship far hornet go luck dog fight hit afterburner get distance make head pas enemy chase since heavy fighter figure would work communication key tell make feel blah blah blah feel thingy force love accept fact see friend romantic feel definitely able maintain friendship must let know able live'],\n",
              "       ['preferably hd low except wew lad video mind good reason agree statement relationship become difficu maintain people involve different stag life constantly feel though feign certain emotion counteract natural appearance aloofness excite someone engagement welcome someone bring child office internally really care either thing order mesh generally office one strategically fake make act like thing matter family use phase anymore naturally open almost difficu fake around one occasion year feel obligate feign emotion actually comfortable around people overcome social anxiety fake emotion appear le detach completely different former take time persistent effort latter patch gauze cover wind former live fake learn comfort zone socially embrace people accept effort easily sniff counterfeit sense would take plenty vitamin get sunlight eat good visit watchpeopledie appreciate life remember achieve thus far say resu trauma student study nurse something find interest body language fractal something think would really cool really understand yet mentalism one fact cool mundane common knowledge matter tell something navajo apache descend single tribe migrate canada well sorta chief blame leaker source little foolish take basic precaution sort thing park car leave door unlock key ignition fau get steal thief still one primarily responsible idiot make easy say take photo compromise situation first place little like say could avoid theft never buy car technically true far inferior buy car lock door bed similar problem job hop since graduate land company nice crappy person like cuz still company first sale fairly well prep like excel amp nots lack severely customer service hat call finally somehow lose interest job scope initial good work erode allow shift logistics due exceptional initial stage thing happen fairly good lose focus job give another chance sale ask back logistics position feel crappy sale back logistics decide shift quality fairly well lose focus plus early stage pregnancy thus move back logistics light work tardy extend come work hour two late become moody temperamental pretty much keep barely make connection colleague surprise general manager amp ceo still ok come back maternity leave find none department want back cannot kick due local law woman back work maternity leave give final chance gm hr department new position company previously hire etc hr manager dual function finance amp hr function hr manager also temporary position finance position good get plan amp whatnot regard hire process etc course follow current cuure thats gm saw potiential sure say something genius people always one bad attitude agm speak highly person unsure real despite know lick type people work bring child goal well good environment go school etc happy planning carry thing etc punctuality wise amp interpersonally bad use lose motivation clear direction hr manager due position really hr finance really much teach even though know alot amp alot thing really find pro active point perhaps find work newly set company suggest way set direction amp planning heck even open get relevant people relevant thing master planner amp set direction best suggest vodka good stuff strong flavor smooth easy mix type'],\n",
              "       ...,\n",
              "       ['take data si fi useless know te want everything perfect si fi pointless function xcept entirely depend question old tend use often intentionally develop tend use often case xd use ni stupid thing hear use se fe mostly analyze ti ni use strictly make connection though ti good enough job ni much comment imply though implication comment original comment reference intentionally avoid name case comment imply perfectly hence key word like mean similar say sensor run say like damn te still make assumption one naccuracy communication get trouble get try hard make sure hear say mean sometimes make lock play conversation try find right word minimize miss communication infamous river people go hoodrat stuff friend seem like place love go lose virginity tip le funny hat may may deal one yet imagine work fe good move regard title find please let know seriousness though much agree say content stay around house day really feel need something time seem friend also say hate organise thing bc never sure whether people actually like suggest want hang unless something really want say favourite band play interest movie cinema rarely make plan even likely go know anyone enjoy sure make sense yeah probably one organise thing future well work get mingle people see easy read others realize telepath one kind whore say good enneagram interest tool use alongside mbti could say mbti relate nature enneagram relate nurture simplify mbti take information make decision enneagram go act use accomplish decision respond immediate threat mbti different enneagram type another major difference two motivation mbti promote understand little action growth take primary motivation mbti understand self others pretty much assume automatically grow time enneagram however encourage deliberate action achieve heah within enneagram type would say make hard ignore need take action highly recommend read theory enneagram fit mbti also growth path enneagram type interest least think come fourth rare personality girl rare rare haha tomboy side still enjoy girl hat think cliche pretty girly girl always try avoid path even parent pressure perfect like barbies much climb lot tree play lot football love animal mostly guy best friend watch lot action cartoon love music specially old stuff dad listen enjoy childhood lot fun way girl suppose oh dress girly way mom make holiday otherwise would even ask mom boy clothe find comfortable always type test type istj dichotomy base test happen people always seem type well except istj think quite right test crap work sound like need take kardashian like approach life perma smile uptalking think aloud maybe get marry divorce time brief time span people love come back data upvote reply night mode enable always browse subreddit style disable anyway look great female sometimes week simply want text big deal analyze problem would tell actual type around ni lot still know retard consider nj rare two letter combination roughly population'],\n",
              "       ['add google define djective cheerful friendly jovial mood enough know right worth deal someone acknowledge wrong big socialist party trot lol clothe spend money nice run shoe decent look cargo short expect long seem overly safe control environment purely academic purpose try drug alcohol could lead revelation use alcohol feel try weed twice time think heart attack take vicodin oral surgery like float control feel point try something never know useful even enjoyable tankies derogatory term stalinist socialist due unwavering support soviet intervention eastern europe time country attempt deviate ussr sphere influence think hungarian revolution prague spring sound like good advice blunt instrument useful justmoreracialhatredthings pedal pedal specifically gay nazi communist fascist like obese country europe man currently since pay tournament scrimming least stream everyday yeah population simply stop care two major war system administrator man spend hour work computer come home spend rest day pc socialize maybe channel help bruh enjoy dream rarely remember dream one phase write dream right wake quite laugh go back read dream one time drive around green convertible avril lavigne others crash park bench fly lake get proceed play percussion park bench lot random shit happen win go much detail people talk dream mean never relate set tend play handful people session link karma post finish object knit amp crochet sub every comment karma genuine one leave alone necessary whatever cooperative basis socialism maybe point differentiation though proletarian democracy resu social control state apparatus point property separate state unnecessary plan economy volunteer mod pleaseee right would use example demonstrate act let say write webpage tend charm example anomaly charm pant every girl meet make sense use example actual charm try explain act enjoy lot fun basically boredom something deep like bore time lack interest anything btw sorry tire english native language struggle find proper way describe nah man maybe depend intensity ness anyone watch new season true detective want give shoot young much anymore day friend come cry video nanking massacre watch history assignment want empathise melancholic eeing already implement eu wide common security defence policy eu take responsibility peacekeeping enforcement treaty entirely viable without significant institutional change entirely different thing aogether talk agreement memberstates european union exempt institutional unification across memberstates current future military test tube isolate rest world link society logistics fund train land etc separate unification military scale without radical change long run also matter people accept kind change point get ireland finland sweden uk germany france spain dozen member state exact page foreign policy view world consider total release foreign policy massive step military unification decade trust bui condition would correct basis radical decision make state would give sovreignty would situation would long make sense separate military would mean work term state eu would le work single unit onsidering already compete economically politically take mean defeat military sense open war sense sense russia try militarily defeat syria rather say war politics mean sense try defeat china state secure'],\n",
              "       ['resource africa middle east superpower player competition global domination pursuit subdue subvert weak state exert influence suit interest create inevitably clash player uimately necessitate defeat game saw west defeat eastern bloc collapse ussr example yes entire sub republican least social democrat still relatively new remain see quite like mathrock one music similar daysofstatic explosion sky nice certainly recall several thing childhood make today wit first video game super mario world snes back play ever love hell several snes title notably earthbound since release first super smash bros also remember stay late watch anime adu swim back early despite barely teenager time toonami back another experience never forget se user focus past mean completely forget quite opposite tend cherish pivotal moment past make today event still relevant mad cool drive fast car get hot babe yep ive try distance phone last day keep get angry thing well female part fuck big wtf part approve go specific subject maybe notice random sometimes feel know go end someone lie explain even logic behind stuff like affiliative really depend person many surround pattern resolve problem debate subject say depend always interest one know passioned mechanic one real job live government expense thing interrest much easy fun together damn guy use therein casual conversation respect yo average enneagram go personally get angry season idk personally near zero anxiety pay near zero attention appearance big deal make music openness conscientiousness extraversion agreeableness neuroticism uh sorry already real life need internet one love fix lot bullshit come initial version plus opt ad track shit well repetitive grunt work mostly go document extract important bit lawyer high company analysis research since awhile quality control work new le reliable employee pay buck even seattle minimum wage supplement write income enough push low middle class territory wanna eat give kid africa would kill food picky haha lol eat food grind talkin go computer tech course get help customer troubleshoot fix computer custom build pc could want honestly always hat job mainly dislike bos job enjoy work college set activity student like movie night paintball archery poker pool keg night etc anything lot independence hate tell hopefully find independence job google job give lot independence thrive problem solve male win first embrace inner nerd corollary maximum age restriction regard medium viewership consumption corollary taste shit joke among anime fandom realize fictional violence best violence mostly le cleanup dark humor symptom psychopath deliberately harmful impulsive action mix two prove happen least corollary bullshit way least make sound plausible fun realize difference debate argument one violent abusive take serious issue seriously apparent issue otherwise joke one favourite aswell speak everyone case say want say like like want together time want able discus shit together also probably cuddle something suggest find shit like good book netflix show movie game maybe even build project like kinda stuff conversation flow interest much way debate politics make sure actually interest']],\n",
              "      dtype=object)"
            ]
          },
          "metadata": {},
          "execution_count": 18
        }
      ]
    },
    {
      "cell_type": "markdown",
      "source": [
        "## **data split**"
      ],
      "metadata": {
        "id": "hwaOw5-ZkiIC"
      }
    },
    {
      "cell_type": "code",
      "source": [
        "# 변수가 바이트 형식이라면 utf-8로 디코딩\n",
        "X_decoded = [x.decode('utf-8') if isinstance(x, bytes) else x for x in X_data]\n",
        "y_decoded = [y.decode('utf-8') if isinstance(y, bytes) else y for y in y_data]"
      ],
      "metadata": {
        "id": "gtXhWa6JlDQE"
      },
      "execution_count": 21,
      "outputs": []
    },
    {
      "cell_type": "code",
      "source": [
        "X, X_test, y, y_test = train_test_split(X_decoded, y_decoded, test_size=0.2, random_state=1)\n",
        "X_train, X_valid, y_train, y_valid = train_test_split(X, y, test_size=0.2, random_state=1) # test size = 0.3도 해보기"
      ],
      "metadata": {
        "id": "ew_vHRq1kP6u"
      },
      "execution_count": 22,
      "outputs": []
    },
    {
      "cell_type": "markdown",
      "metadata": {
        "id": "i-O7lCJ7yTxS"
      },
      "source": [
        "## **TF-IDF Vectorizer**\n",
        "\n",
        "*   TF(Term Frequency) : 특정 단어가 등장하는 횟수\n",
        "*   IDF(Inverse Document Frequency) : 특정 단어가 몇 개의 Document에서 등장하는지의 역수\n",
        "\n",
        "\n",
        "*   TF-IDF = TF*IDF\n",
        "\n"
      ]
    },
    {
      "cell_type": "code",
      "execution_count": 25,
      "metadata": {
        "id": "P9HYJ7vaySDE"
      },
      "outputs": [],
      "source": [
        "from sklearn.feature_extraction.text import TfidfVectorizer\n",
        "# 벡터화\n",
        "tfidf = TfidfVectorizer(lowercase=False)\n",
        "\n",
        "\n",
        "# 문자열로 변환->X_train를 그대로 tfidfVectorizer로 벡터화하면 에러 발생\n",
        "X_train_str = [str(x) for x in X_train]\n",
        "\n",
        "# 훈련 데이터 벡터화\n",
        "X_train_tfidf = tfidf.fit_transform(X_train_str)"
      ]
    },
    {
      "cell_type": "markdown",
      "metadata": {
        "id": "B0nvzMyv0DKK"
      },
      "source": [
        "## **Grid SearchCV**"
      ]
    },
    {
      "cell_type": "code",
      "execution_count": 26,
      "metadata": {
        "id": "dLVlbd0N0Cyr"
      },
      "outputs": [],
      "source": [
        "clf = LinearSVC()\n",
        "clf.fit(X_train_tfidf, y_train)\n",
        "# grid search를 이용해 최적의 하이퍼 파라미터 찾기\n",
        "cv = GridSearchCV(clf, {'C': [0.1, 0.2, 0.3, 0.4, 0.5, 1.0]}, scoring = \"accuracy\")\n",
        "\n",
        "text_clf = Pipeline([('tfidf',TfidfVectorizer()),('clf',cv)])\n",
        "text_clf.fit(X_train_str, y_train)\n",
        "\n",
        "C = cv.best_estimator_.C"
      ]
    },
    {
      "cell_type": "code",
      "execution_count": 27,
      "metadata": {
        "id": "DOswvrN600El",
        "colab": {
          "base_uri": "https://localhost:8080/"
        },
        "outputId": "e310362c-7b90-42fb-f38a-fa83a0329117"
      },
      "outputs": [
        {
          "output_type": "stream",
          "name": "stdout",
          "text": [
            "최적의 파라미터 C :  1.0\n"
          ]
        }
      ],
      "source": [
        "print(\"최적의 파라미터 C : \", C)"
      ]
    },
    {
      "cell_type": "markdown",
      "metadata": {
        "id": "LdGP15uG05oo"
      },
      "source": [
        "## **모델 학습 및 Validation data 예측**"
      ]
    },
    {
      "cell_type": "code",
      "execution_count": 29,
      "metadata": {
        "id": "Hs6nOsIo043P",
        "colab": {
          "base_uri": "https://localhost:8080/",
          "height": 126
        },
        "outputId": "56b163c4-7df0-42ff-a685-59961559ce28"
      },
      "outputs": [
        {
          "output_type": "execute_result",
          "data": {
            "text/plain": [
              "Pipeline(steps=[('tfidf', TfidfVectorizer()), ('clf', LinearSVC())])"
            ],
            "text/html": [
              "<style>#sk-container-id-1 {color: black;background-color: white;}#sk-container-id-1 pre{padding: 0;}#sk-container-id-1 div.sk-toggleable {background-color: white;}#sk-container-id-1 label.sk-toggleable__label {cursor: pointer;display: block;width: 100%;margin-bottom: 0;padding: 0.3em;box-sizing: border-box;text-align: center;}#sk-container-id-1 label.sk-toggleable__label-arrow:before {content: \"▸\";float: left;margin-right: 0.25em;color: #696969;}#sk-container-id-1 label.sk-toggleable__label-arrow:hover:before {color: black;}#sk-container-id-1 div.sk-estimator:hover label.sk-toggleable__label-arrow:before {color: black;}#sk-container-id-1 div.sk-toggleable__content {max-height: 0;max-width: 0;overflow: hidden;text-align: left;background-color: #f0f8ff;}#sk-container-id-1 div.sk-toggleable__content pre {margin: 0.2em;color: black;border-radius: 0.25em;background-color: #f0f8ff;}#sk-container-id-1 input.sk-toggleable__control:checked~div.sk-toggleable__content {max-height: 200px;max-width: 100%;overflow: auto;}#sk-container-id-1 input.sk-toggleable__control:checked~label.sk-toggleable__label-arrow:before {content: \"▾\";}#sk-container-id-1 div.sk-estimator input.sk-toggleable__control:checked~label.sk-toggleable__label {background-color: #d4ebff;}#sk-container-id-1 div.sk-label input.sk-toggleable__control:checked~label.sk-toggleable__label {background-color: #d4ebff;}#sk-container-id-1 input.sk-hidden--visually {border: 0;clip: rect(1px 1px 1px 1px);clip: rect(1px, 1px, 1px, 1px);height: 1px;margin: -1px;overflow: hidden;padding: 0;position: absolute;width: 1px;}#sk-container-id-1 div.sk-estimator {font-family: monospace;background-color: #f0f8ff;border: 1px dotted black;border-radius: 0.25em;box-sizing: border-box;margin-bottom: 0.5em;}#sk-container-id-1 div.sk-estimator:hover {background-color: #d4ebff;}#sk-container-id-1 div.sk-parallel-item::after {content: \"\";width: 100%;border-bottom: 1px solid gray;flex-grow: 1;}#sk-container-id-1 div.sk-label:hover label.sk-toggleable__label {background-color: #d4ebff;}#sk-container-id-1 div.sk-serial::before {content: \"\";position: absolute;border-left: 1px solid gray;box-sizing: border-box;top: 0;bottom: 0;left: 50%;z-index: 0;}#sk-container-id-1 div.sk-serial {display: flex;flex-direction: column;align-items: center;background-color: white;padding-right: 0.2em;padding-left: 0.2em;position: relative;}#sk-container-id-1 div.sk-item {position: relative;z-index: 1;}#sk-container-id-1 div.sk-parallel {display: flex;align-items: stretch;justify-content: center;background-color: white;position: relative;}#sk-container-id-1 div.sk-item::before, #sk-container-id-1 div.sk-parallel-item::before {content: \"\";position: absolute;border-left: 1px solid gray;box-sizing: border-box;top: 0;bottom: 0;left: 50%;z-index: -1;}#sk-container-id-1 div.sk-parallel-item {display: flex;flex-direction: column;z-index: 1;position: relative;background-color: white;}#sk-container-id-1 div.sk-parallel-item:first-child::after {align-self: flex-end;width: 50%;}#sk-container-id-1 div.sk-parallel-item:last-child::after {align-self: flex-start;width: 50%;}#sk-container-id-1 div.sk-parallel-item:only-child::after {width: 0;}#sk-container-id-1 div.sk-dashed-wrapped {border: 1px dashed gray;margin: 0 0.4em 0.5em 0.4em;box-sizing: border-box;padding-bottom: 0.4em;background-color: white;}#sk-container-id-1 div.sk-label label {font-family: monospace;font-weight: bold;display: inline-block;line-height: 1.2em;}#sk-container-id-1 div.sk-label-container {text-align: center;}#sk-container-id-1 div.sk-container {/* jupyter's `normalize.less` sets `[hidden] { display: none; }` but bootstrap.min.css set `[hidden] { display: none !important; }` so we also need the `!important` here to be able to override the default hidden behavior on the sphinx rendered scikit-learn.org. See: https://github.com/scikit-learn/scikit-learn/issues/21755 */display: inline-block !important;position: relative;}#sk-container-id-1 div.sk-text-repr-fallback {display: none;}</style><div id=\"sk-container-id-1\" class=\"sk-top-container\"><div class=\"sk-text-repr-fallback\"><pre>Pipeline(steps=[(&#x27;tfidf&#x27;, TfidfVectorizer()), (&#x27;clf&#x27;, LinearSVC())])</pre><b>In a Jupyter environment, please rerun this cell to show the HTML representation or trust the notebook. <br />On GitHub, the HTML representation is unable to render, please try loading this page with nbviewer.org.</b></div><div class=\"sk-container\" hidden><div class=\"sk-item sk-dashed-wrapped\"><div class=\"sk-label-container\"><div class=\"sk-label sk-toggleable\"><input class=\"sk-toggleable__control sk-hidden--visually\" id=\"sk-estimator-id-1\" type=\"checkbox\" ><label for=\"sk-estimator-id-1\" class=\"sk-toggleable__label sk-toggleable__label-arrow\">Pipeline</label><div class=\"sk-toggleable__content\"><pre>Pipeline(steps=[(&#x27;tfidf&#x27;, TfidfVectorizer()), (&#x27;clf&#x27;, LinearSVC())])</pre></div></div></div><div class=\"sk-serial\"><div class=\"sk-item\"><div class=\"sk-estimator sk-toggleable\"><input class=\"sk-toggleable__control sk-hidden--visually\" id=\"sk-estimator-id-2\" type=\"checkbox\" ><label for=\"sk-estimator-id-2\" class=\"sk-toggleable__label sk-toggleable__label-arrow\">TfidfVectorizer</label><div class=\"sk-toggleable__content\"><pre>TfidfVectorizer()</pre></div></div></div><div class=\"sk-item\"><div class=\"sk-estimator sk-toggleable\"><input class=\"sk-toggleable__control sk-hidden--visually\" id=\"sk-estimator-id-3\" type=\"checkbox\" ><label for=\"sk-estimator-id-3\" class=\"sk-toggleable__label sk-toggleable__label-arrow\">LinearSVC</label><div class=\"sk-toggleable__content\"><pre>LinearSVC()</pre></div></div></div></div></div></div></div>"
            ]
          },
          "metadata": {},
          "execution_count": 29
        }
      ],
      "source": [
        "#grid search를 통해 찾은 최적의 하이퍼 파라미터 적용\n",
        "text_clf = Pipeline([('tfidf',TfidfVectorizer()),('clf',LinearSVC(C=1.0))])\n",
        "text_clf.fit(X_train_str, y_train)"
      ]
    },
    {
      "cell_type": "code",
      "source": [
        "X_valid_str = [str(x) for x in X_valid]  # Convert to strings"
      ],
      "metadata": {
        "id": "sqp2024bYV3S"
      },
      "execution_count": 31,
      "outputs": []
    },
    {
      "cell_type": "code",
      "execution_count": 32,
      "metadata": {
        "id": "88zXNv_F1pkx"
      },
      "outputs": [],
      "source": [
        "# valid 데이터의 mbti 예측\n",
        "pred = text_clf.predict(X_valid_str)"
      ]
    },
    {
      "cell_type": "code",
      "execution_count": 33,
      "metadata": {
        "id": "wFvH1Eyb1viE",
        "colab": {
          "base_uri": "https://localhost:8080/"
        },
        "outputId": "911c242a-c631-4f8e-c415-765be4bccec9"
      },
      "outputs": [
        {
          "output_type": "execute_result",
          "data": {
            "text/plain": [
              "0.938636577044665"
            ]
          },
          "metadata": {},
          "execution_count": 33
        }
      ],
      "source": [
        "# valid data에서의 정확도\n",
        "accuracy_score(pred, y_valid)"
      ]
    },
    {
      "cell_type": "code",
      "source": [
        "from sklearn.metrics import classification_report\n",
        "print(classification_report(y_valid, pred))"
      ],
      "metadata": {
        "colab": {
          "base_uri": "https://localhost:8080/"
        },
        "id": "Dlkes_Olvyk8",
        "outputId": "6020004f-b458-40b5-bf1e-8ef767bf7c21"
      },
      "execution_count": 34,
      "outputs": [
        {
          "output_type": "stream",
          "name": "stdout",
          "text": [
            "              precision    recall  f1-score   support\n",
            "\n",
            "        ENFJ       0.98      1.00      0.99      4029\n",
            "        ENFP       0.93      0.93      0.93      4080\n",
            "        ENTJ       0.97      0.99      0.98      3885\n",
            "        ENTP       0.89      0.89      0.89      3940\n",
            "        ESFJ       1.00      1.00      1.00      3927\n",
            "        ESFP       1.00      1.00      1.00      4078\n",
            "        ESTJ       1.00      1.00      1.00      4013\n",
            "        ESTP       0.99      1.00      1.00      3916\n",
            "        INFJ       0.87      0.84      0.85      4026\n",
            "        INFP       0.93      0.96      0.94      4038\n",
            "        INTJ       0.76      0.73      0.74      3954\n",
            "        INTP       0.75      0.70      0.73      4040\n",
            "        ISFJ       0.99      1.00      0.99      4052\n",
            "        ISFP       0.99      1.00      0.99      3942\n",
            "        ISTJ       0.98      1.00      0.99      3994\n",
            "        ISTP       0.96      0.98      0.97      3984\n",
            "\n",
            "    accuracy                           0.94     63898\n",
            "   macro avg       0.94      0.94      0.94     63898\n",
            "weighted avg       0.94      0.94      0.94     63898\n",
            "\n"
          ]
        }
      ]
    },
    {
      "cell_type": "markdown",
      "source": [
        "## **Test data 예측**"
      ],
      "metadata": {
        "id": "P-aetpEHjNn6"
      }
    },
    {
      "cell_type": "code",
      "source": [
        "X_str = [str(x) for x in X]  # Convert to strings"
      ],
      "metadata": {
        "id": "SlFv16XnbnsX"
      },
      "execution_count": 43,
      "outputs": []
    },
    {
      "cell_type": "code",
      "source": [
        "X_test_str = [str(x) for x in X_test]  # Convert to strings"
      ],
      "metadata": {
        "id": "PfcO-XCQbfMR"
      },
      "execution_count": 40,
      "outputs": []
    },
    {
      "cell_type": "code",
      "execution_count": 41,
      "metadata": {
        "id": "k62xmFTd7gO6"
      },
      "outputs": [],
      "source": [
        "# 모든 설명변수 데이터 X 자연어처리\n",
        "X_tfidf = tfidf.fit_transform(X_test_str)"
      ]
    },
    {
      "cell_type": "code",
      "source": [
        "clf = LinearSVC()\n",
        "clf.fit(X_tfidf, y_test)"
      ],
      "metadata": {
        "colab": {
          "base_uri": "https://localhost:8080/",
          "height": 75
        },
        "id": "n6dDViPjBa9U",
        "outputId": "042eea2b-7a43-41b3-928d-4d0385f6eebf"
      },
      "execution_count": 42,
      "outputs": [
        {
          "output_type": "execute_result",
          "data": {
            "text/plain": [
              "LinearSVC()"
            ],
            "text/html": [
              "<style>#sk-container-id-2 {color: black;background-color: white;}#sk-container-id-2 pre{padding: 0;}#sk-container-id-2 div.sk-toggleable {background-color: white;}#sk-container-id-2 label.sk-toggleable__label {cursor: pointer;display: block;width: 100%;margin-bottom: 0;padding: 0.3em;box-sizing: border-box;text-align: center;}#sk-container-id-2 label.sk-toggleable__label-arrow:before {content: \"▸\";float: left;margin-right: 0.25em;color: #696969;}#sk-container-id-2 label.sk-toggleable__label-arrow:hover:before {color: black;}#sk-container-id-2 div.sk-estimator:hover label.sk-toggleable__label-arrow:before {color: black;}#sk-container-id-2 div.sk-toggleable__content {max-height: 0;max-width: 0;overflow: hidden;text-align: left;background-color: #f0f8ff;}#sk-container-id-2 div.sk-toggleable__content pre {margin: 0.2em;color: black;border-radius: 0.25em;background-color: #f0f8ff;}#sk-container-id-2 input.sk-toggleable__control:checked~div.sk-toggleable__content {max-height: 200px;max-width: 100%;overflow: auto;}#sk-container-id-2 input.sk-toggleable__control:checked~label.sk-toggleable__label-arrow:before {content: \"▾\";}#sk-container-id-2 div.sk-estimator input.sk-toggleable__control:checked~label.sk-toggleable__label {background-color: #d4ebff;}#sk-container-id-2 div.sk-label input.sk-toggleable__control:checked~label.sk-toggleable__label {background-color: #d4ebff;}#sk-container-id-2 input.sk-hidden--visually {border: 0;clip: rect(1px 1px 1px 1px);clip: rect(1px, 1px, 1px, 1px);height: 1px;margin: -1px;overflow: hidden;padding: 0;position: absolute;width: 1px;}#sk-container-id-2 div.sk-estimator {font-family: monospace;background-color: #f0f8ff;border: 1px dotted black;border-radius: 0.25em;box-sizing: border-box;margin-bottom: 0.5em;}#sk-container-id-2 div.sk-estimator:hover {background-color: #d4ebff;}#sk-container-id-2 div.sk-parallel-item::after {content: \"\";width: 100%;border-bottom: 1px solid gray;flex-grow: 1;}#sk-container-id-2 div.sk-label:hover label.sk-toggleable__label {background-color: #d4ebff;}#sk-container-id-2 div.sk-serial::before {content: \"\";position: absolute;border-left: 1px solid gray;box-sizing: border-box;top: 0;bottom: 0;left: 50%;z-index: 0;}#sk-container-id-2 div.sk-serial {display: flex;flex-direction: column;align-items: center;background-color: white;padding-right: 0.2em;padding-left: 0.2em;position: relative;}#sk-container-id-2 div.sk-item {position: relative;z-index: 1;}#sk-container-id-2 div.sk-parallel {display: flex;align-items: stretch;justify-content: center;background-color: white;position: relative;}#sk-container-id-2 div.sk-item::before, #sk-container-id-2 div.sk-parallel-item::before {content: \"\";position: absolute;border-left: 1px solid gray;box-sizing: border-box;top: 0;bottom: 0;left: 50%;z-index: -1;}#sk-container-id-2 div.sk-parallel-item {display: flex;flex-direction: column;z-index: 1;position: relative;background-color: white;}#sk-container-id-2 div.sk-parallel-item:first-child::after {align-self: flex-end;width: 50%;}#sk-container-id-2 div.sk-parallel-item:last-child::after {align-self: flex-start;width: 50%;}#sk-container-id-2 div.sk-parallel-item:only-child::after {width: 0;}#sk-container-id-2 div.sk-dashed-wrapped {border: 1px dashed gray;margin: 0 0.4em 0.5em 0.4em;box-sizing: border-box;padding-bottom: 0.4em;background-color: white;}#sk-container-id-2 div.sk-label label {font-family: monospace;font-weight: bold;display: inline-block;line-height: 1.2em;}#sk-container-id-2 div.sk-label-container {text-align: center;}#sk-container-id-2 div.sk-container {/* jupyter's `normalize.less` sets `[hidden] { display: none; }` but bootstrap.min.css set `[hidden] { display: none !important; }` so we also need the `!important` here to be able to override the default hidden behavior on the sphinx rendered scikit-learn.org. See: https://github.com/scikit-learn/scikit-learn/issues/21755 */display: inline-block !important;position: relative;}#sk-container-id-2 div.sk-text-repr-fallback {display: none;}</style><div id=\"sk-container-id-2\" class=\"sk-top-container\"><div class=\"sk-text-repr-fallback\"><pre>LinearSVC()</pre><b>In a Jupyter environment, please rerun this cell to show the HTML representation or trust the notebook. <br />On GitHub, the HTML representation is unable to render, please try loading this page with nbviewer.org.</b></div><div class=\"sk-container\" hidden><div class=\"sk-item\"><div class=\"sk-estimator sk-toggleable\"><input class=\"sk-toggleable__control sk-hidden--visually\" id=\"sk-estimator-id-4\" type=\"checkbox\" checked><label for=\"sk-estimator-id-4\" class=\"sk-toggleable__label sk-toggleable__label-arrow\">LinearSVC</label><div class=\"sk-toggleable__content\"><pre>LinearSVC()</pre></div></div></div></div></div>"
            ]
          },
          "metadata": {},
          "execution_count": 42
        }
      ]
    },
    {
      "cell_type": "code",
      "execution_count": 44,
      "metadata": {
        "id": "MpK3iQXn7hPU",
        "colab": {
          "base_uri": "https://localhost:8080/",
          "height": 126
        },
        "outputId": "c40aa0bc-7590-4b17-acdc-62bdd5b43445"
      },
      "outputs": [
        {
          "output_type": "execute_result",
          "data": {
            "text/plain": [
              "Pipeline(steps=[('tfidf', TfidfVectorizer()), ('clf', LinearSVC())])"
            ],
            "text/html": [
              "<style>#sk-container-id-3 {color: black;background-color: white;}#sk-container-id-3 pre{padding: 0;}#sk-container-id-3 div.sk-toggleable {background-color: white;}#sk-container-id-3 label.sk-toggleable__label {cursor: pointer;display: block;width: 100%;margin-bottom: 0;padding: 0.3em;box-sizing: border-box;text-align: center;}#sk-container-id-3 label.sk-toggleable__label-arrow:before {content: \"▸\";float: left;margin-right: 0.25em;color: #696969;}#sk-container-id-3 label.sk-toggleable__label-arrow:hover:before {color: black;}#sk-container-id-3 div.sk-estimator:hover label.sk-toggleable__label-arrow:before {color: black;}#sk-container-id-3 div.sk-toggleable__content {max-height: 0;max-width: 0;overflow: hidden;text-align: left;background-color: #f0f8ff;}#sk-container-id-3 div.sk-toggleable__content pre {margin: 0.2em;color: black;border-radius: 0.25em;background-color: #f0f8ff;}#sk-container-id-3 input.sk-toggleable__control:checked~div.sk-toggleable__content {max-height: 200px;max-width: 100%;overflow: auto;}#sk-container-id-3 input.sk-toggleable__control:checked~label.sk-toggleable__label-arrow:before {content: \"▾\";}#sk-container-id-3 div.sk-estimator input.sk-toggleable__control:checked~label.sk-toggleable__label {background-color: #d4ebff;}#sk-container-id-3 div.sk-label input.sk-toggleable__control:checked~label.sk-toggleable__label {background-color: #d4ebff;}#sk-container-id-3 input.sk-hidden--visually {border: 0;clip: rect(1px 1px 1px 1px);clip: rect(1px, 1px, 1px, 1px);height: 1px;margin: -1px;overflow: hidden;padding: 0;position: absolute;width: 1px;}#sk-container-id-3 div.sk-estimator {font-family: monospace;background-color: #f0f8ff;border: 1px dotted black;border-radius: 0.25em;box-sizing: border-box;margin-bottom: 0.5em;}#sk-container-id-3 div.sk-estimator:hover {background-color: #d4ebff;}#sk-container-id-3 div.sk-parallel-item::after {content: \"\";width: 100%;border-bottom: 1px solid gray;flex-grow: 1;}#sk-container-id-3 div.sk-label:hover label.sk-toggleable__label {background-color: #d4ebff;}#sk-container-id-3 div.sk-serial::before {content: \"\";position: absolute;border-left: 1px solid gray;box-sizing: border-box;top: 0;bottom: 0;left: 50%;z-index: 0;}#sk-container-id-3 div.sk-serial {display: flex;flex-direction: column;align-items: center;background-color: white;padding-right: 0.2em;padding-left: 0.2em;position: relative;}#sk-container-id-3 div.sk-item {position: relative;z-index: 1;}#sk-container-id-3 div.sk-parallel {display: flex;align-items: stretch;justify-content: center;background-color: white;position: relative;}#sk-container-id-3 div.sk-item::before, #sk-container-id-3 div.sk-parallel-item::before {content: \"\";position: absolute;border-left: 1px solid gray;box-sizing: border-box;top: 0;bottom: 0;left: 50%;z-index: -1;}#sk-container-id-3 div.sk-parallel-item {display: flex;flex-direction: column;z-index: 1;position: relative;background-color: white;}#sk-container-id-3 div.sk-parallel-item:first-child::after {align-self: flex-end;width: 50%;}#sk-container-id-3 div.sk-parallel-item:last-child::after {align-self: flex-start;width: 50%;}#sk-container-id-3 div.sk-parallel-item:only-child::after {width: 0;}#sk-container-id-3 div.sk-dashed-wrapped {border: 1px dashed gray;margin: 0 0.4em 0.5em 0.4em;box-sizing: border-box;padding-bottom: 0.4em;background-color: white;}#sk-container-id-3 div.sk-label label {font-family: monospace;font-weight: bold;display: inline-block;line-height: 1.2em;}#sk-container-id-3 div.sk-label-container {text-align: center;}#sk-container-id-3 div.sk-container {/* jupyter's `normalize.less` sets `[hidden] { display: none; }` but bootstrap.min.css set `[hidden] { display: none !important; }` so we also need the `!important` here to be able to override the default hidden behavior on the sphinx rendered scikit-learn.org. See: https://github.com/scikit-learn/scikit-learn/issues/21755 */display: inline-block !important;position: relative;}#sk-container-id-3 div.sk-text-repr-fallback {display: none;}</style><div id=\"sk-container-id-3\" class=\"sk-top-container\"><div class=\"sk-text-repr-fallback\"><pre>Pipeline(steps=[(&#x27;tfidf&#x27;, TfidfVectorizer()), (&#x27;clf&#x27;, LinearSVC())])</pre><b>In a Jupyter environment, please rerun this cell to show the HTML representation or trust the notebook. <br />On GitHub, the HTML representation is unable to render, please try loading this page with nbviewer.org.</b></div><div class=\"sk-container\" hidden><div class=\"sk-item sk-dashed-wrapped\"><div class=\"sk-label-container\"><div class=\"sk-label sk-toggleable\"><input class=\"sk-toggleable__control sk-hidden--visually\" id=\"sk-estimator-id-5\" type=\"checkbox\" ><label for=\"sk-estimator-id-5\" class=\"sk-toggleable__label sk-toggleable__label-arrow\">Pipeline</label><div class=\"sk-toggleable__content\"><pre>Pipeline(steps=[(&#x27;tfidf&#x27;, TfidfVectorizer()), (&#x27;clf&#x27;, LinearSVC())])</pre></div></div></div><div class=\"sk-serial\"><div class=\"sk-item\"><div class=\"sk-estimator sk-toggleable\"><input class=\"sk-toggleable__control sk-hidden--visually\" id=\"sk-estimator-id-6\" type=\"checkbox\" ><label for=\"sk-estimator-id-6\" class=\"sk-toggleable__label sk-toggleable__label-arrow\">TfidfVectorizer</label><div class=\"sk-toggleable__content\"><pre>TfidfVectorizer()</pre></div></div></div><div class=\"sk-item\"><div class=\"sk-estimator sk-toggleable\"><input class=\"sk-toggleable__control sk-hidden--visually\" id=\"sk-estimator-id-7\" type=\"checkbox\" ><label for=\"sk-estimator-id-7\" class=\"sk-toggleable__label sk-toggleable__label-arrow\">LinearSVC</label><div class=\"sk-toggleable__content\"><pre>LinearSVC()</pre></div></div></div></div></div></div></div>"
            ]
          },
          "metadata": {},
          "execution_count": 44
        }
      ],
      "source": [
        "svc_clf = Pipeline([('tfidf',TfidfVectorizer()),('clf',LinearSVC(C=1.0))])\n",
        "svc_clf.fit(X_str, y) # train/valid data 합쳐서 학습, test data로 예측"
      ]
    },
    {
      "cell_type": "code",
      "source": [
        "pred_svc = svc_clf.predict(X_test_str)"
      ],
      "metadata": {
        "id": "laLknUTH3orl"
      },
      "execution_count": 45,
      "outputs": []
    },
    {
      "cell_type": "code",
      "source": [
        "test_pred = pd.DataFrame(pred_svc)"
      ],
      "metadata": {
        "id": "V_ftUalD3xhq"
      },
      "execution_count": 46,
      "outputs": []
    },
    {
      "cell_type": "code",
      "source": [
        "test_pred"
      ],
      "metadata": {
        "colab": {
          "base_uri": "https://localhost:8080/",
          "height": 424
        },
        "id": "BQFJTRGL3xWb",
        "outputId": "13b3c3ec-8104-491a-ad0b-27181e3d5a0b"
      },
      "execution_count": 47,
      "outputs": [
        {
          "output_type": "execute_result",
          "data": {
            "text/plain": [
              "          0\n",
              "0      ESFJ\n",
              "1      ESTJ\n",
              "2      ISTP\n",
              "3      ENTJ\n",
              "4      INFP\n",
              "...     ...\n",
              "79867  ISTP\n",
              "79868  ESFP\n",
              "79869  ESFJ\n",
              "79870  ESFJ\n",
              "79871  INFP\n",
              "\n",
              "[79872 rows x 1 columns]"
            ],
            "text/html": [
              "\n",
              "  <div id=\"df-bda634e0-6640-4994-92b9-68e742654ff6\" class=\"colab-df-container\">\n",
              "    <div>\n",
              "<style scoped>\n",
              "    .dataframe tbody tr th:only-of-type {\n",
              "        vertical-align: middle;\n",
              "    }\n",
              "\n",
              "    .dataframe tbody tr th {\n",
              "        vertical-align: top;\n",
              "    }\n",
              "\n",
              "    .dataframe thead th {\n",
              "        text-align: right;\n",
              "    }\n",
              "</style>\n",
              "<table border=\"1\" class=\"dataframe\">\n",
              "  <thead>\n",
              "    <tr style=\"text-align: right;\">\n",
              "      <th></th>\n",
              "      <th>0</th>\n",
              "    </tr>\n",
              "  </thead>\n",
              "  <tbody>\n",
              "    <tr>\n",
              "      <th>0</th>\n",
              "      <td>ESFJ</td>\n",
              "    </tr>\n",
              "    <tr>\n",
              "      <th>1</th>\n",
              "      <td>ESTJ</td>\n",
              "    </tr>\n",
              "    <tr>\n",
              "      <th>2</th>\n",
              "      <td>ISTP</td>\n",
              "    </tr>\n",
              "    <tr>\n",
              "      <th>3</th>\n",
              "      <td>ENTJ</td>\n",
              "    </tr>\n",
              "    <tr>\n",
              "      <th>4</th>\n",
              "      <td>INFP</td>\n",
              "    </tr>\n",
              "    <tr>\n",
              "      <th>...</th>\n",
              "      <td>...</td>\n",
              "    </tr>\n",
              "    <tr>\n",
              "      <th>79867</th>\n",
              "      <td>ISTP</td>\n",
              "    </tr>\n",
              "    <tr>\n",
              "      <th>79868</th>\n",
              "      <td>ESFP</td>\n",
              "    </tr>\n",
              "    <tr>\n",
              "      <th>79869</th>\n",
              "      <td>ESFJ</td>\n",
              "    </tr>\n",
              "    <tr>\n",
              "      <th>79870</th>\n",
              "      <td>ESFJ</td>\n",
              "    </tr>\n",
              "    <tr>\n",
              "      <th>79871</th>\n",
              "      <td>INFP</td>\n",
              "    </tr>\n",
              "  </tbody>\n",
              "</table>\n",
              "<p>79872 rows × 1 columns</p>\n",
              "</div>\n",
              "    <div class=\"colab-df-buttons\">\n",
              "\n",
              "  <div class=\"colab-df-container\">\n",
              "    <button class=\"colab-df-convert\" onclick=\"convertToInteractive('df-bda634e0-6640-4994-92b9-68e742654ff6')\"\n",
              "            title=\"Convert this dataframe to an interactive table.\"\n",
              "            style=\"display:none;\">\n",
              "\n",
              "  <svg xmlns=\"http://www.w3.org/2000/svg\" height=\"24px\" viewBox=\"0 -960 960 960\">\n",
              "    <path d=\"M120-120v-720h720v720H120Zm60-500h600v-160H180v160Zm220 220h160v-160H400v160Zm0 220h160v-160H400v160ZM180-400h160v-160H180v160Zm440 0h160v-160H620v160ZM180-180h160v-160H180v160Zm440 0h160v-160H620v160Z\"/>\n",
              "  </svg>\n",
              "    </button>\n",
              "\n",
              "  <style>\n",
              "    .colab-df-container {\n",
              "      display:flex;\n",
              "      gap: 12px;\n",
              "    }\n",
              "\n",
              "    .colab-df-convert {\n",
              "      background-color: #E8F0FE;\n",
              "      border: none;\n",
              "      border-radius: 50%;\n",
              "      cursor: pointer;\n",
              "      display: none;\n",
              "      fill: #1967D2;\n",
              "      height: 32px;\n",
              "      padding: 0 0 0 0;\n",
              "      width: 32px;\n",
              "    }\n",
              "\n",
              "    .colab-df-convert:hover {\n",
              "      background-color: #E2EBFA;\n",
              "      box-shadow: 0px 1px 2px rgba(60, 64, 67, 0.3), 0px 1px 3px 1px rgba(60, 64, 67, 0.15);\n",
              "      fill: #174EA6;\n",
              "    }\n",
              "\n",
              "    .colab-df-buttons div {\n",
              "      margin-bottom: 4px;\n",
              "    }\n",
              "\n",
              "    [theme=dark] .colab-df-convert {\n",
              "      background-color: #3B4455;\n",
              "      fill: #D2E3FC;\n",
              "    }\n",
              "\n",
              "    [theme=dark] .colab-df-convert:hover {\n",
              "      background-color: #434B5C;\n",
              "      box-shadow: 0px 1px 3px 1px rgba(0, 0, 0, 0.15);\n",
              "      filter: drop-shadow(0px 1px 2px rgba(0, 0, 0, 0.3));\n",
              "      fill: #FFFFFF;\n",
              "    }\n",
              "  </style>\n",
              "\n",
              "    <script>\n",
              "      const buttonEl =\n",
              "        document.querySelector('#df-bda634e0-6640-4994-92b9-68e742654ff6 button.colab-df-convert');\n",
              "      buttonEl.style.display =\n",
              "        google.colab.kernel.accessAllowed ? 'block' : 'none';\n",
              "\n",
              "      async function convertToInteractive(key) {\n",
              "        const element = document.querySelector('#df-bda634e0-6640-4994-92b9-68e742654ff6');\n",
              "        const dataTable =\n",
              "          await google.colab.kernel.invokeFunction('convertToInteractive',\n",
              "                                                    [key], {});\n",
              "        if (!dataTable) return;\n",
              "\n",
              "        const docLinkHtml = 'Like what you see? Visit the ' +\n",
              "          '<a target=\"_blank\" href=https://colab.research.google.com/notebooks/data_table.ipynb>data table notebook</a>'\n",
              "          + ' to learn more about interactive tables.';\n",
              "        element.innerHTML = '';\n",
              "        dataTable['output_type'] = 'display_data';\n",
              "        await google.colab.output.renderOutput(dataTable, element);\n",
              "        const docLink = document.createElement('div');\n",
              "        docLink.innerHTML = docLinkHtml;\n",
              "        element.appendChild(docLink);\n",
              "      }\n",
              "    </script>\n",
              "  </div>\n",
              "\n",
              "\n",
              "<div id=\"df-fdb6f431-bdba-4cfe-a776-42fd401f7eaf\">\n",
              "  <button class=\"colab-df-quickchart\" onclick=\"quickchart('df-fdb6f431-bdba-4cfe-a776-42fd401f7eaf')\"\n",
              "            title=\"Suggest charts.\"\n",
              "            style=\"display:none;\">\n",
              "\n",
              "<svg xmlns=\"http://www.w3.org/2000/svg\" height=\"24px\"viewBox=\"0 0 24 24\"\n",
              "     width=\"24px\">\n",
              "    <g>\n",
              "        <path d=\"M19 3H5c-1.1 0-2 .9-2 2v14c0 1.1.9 2 2 2h14c1.1 0 2-.9 2-2V5c0-1.1-.9-2-2-2zM9 17H7v-7h2v7zm4 0h-2V7h2v10zm4 0h-2v-4h2v4z\"/>\n",
              "    </g>\n",
              "</svg>\n",
              "  </button>\n",
              "\n",
              "<style>\n",
              "  .colab-df-quickchart {\n",
              "    background-color: #E8F0FE;\n",
              "    border: none;\n",
              "    border-radius: 50%;\n",
              "    cursor: pointer;\n",
              "    display: none;\n",
              "    fill: #1967D2;\n",
              "    height: 32px;\n",
              "    padding: 0 0 0 0;\n",
              "    width: 32px;\n",
              "  }\n",
              "\n",
              "  .colab-df-quickchart:hover {\n",
              "    background-color: #E2EBFA;\n",
              "    box-shadow: 0px 1px 2px rgba(60, 64, 67, 0.3), 0px 1px 3px 1px rgba(60, 64, 67, 0.15);\n",
              "    fill: #174EA6;\n",
              "  }\n",
              "\n",
              "  [theme=dark] .colab-df-quickchart {\n",
              "    background-color: #3B4455;\n",
              "    fill: #D2E3FC;\n",
              "  }\n",
              "\n",
              "  [theme=dark] .colab-df-quickchart:hover {\n",
              "    background-color: #434B5C;\n",
              "    box-shadow: 0px 1px 3px 1px rgba(0, 0, 0, 0.15);\n",
              "    filter: drop-shadow(0px 1px 2px rgba(0, 0, 0, 0.3));\n",
              "    fill: #FFFFFF;\n",
              "  }\n",
              "</style>\n",
              "\n",
              "  <script>\n",
              "    async function quickchart(key) {\n",
              "      const charts = await google.colab.kernel.invokeFunction(\n",
              "          'suggestCharts', [key], {});\n",
              "    }\n",
              "    (() => {\n",
              "      let quickchartButtonEl =\n",
              "        document.querySelector('#df-fdb6f431-bdba-4cfe-a776-42fd401f7eaf button');\n",
              "      quickchartButtonEl.style.display =\n",
              "        google.colab.kernel.accessAllowed ? 'block' : 'none';\n",
              "    })();\n",
              "  </script>\n",
              "</div>\n",
              "    </div>\n",
              "  </div>\n"
            ]
          },
          "metadata": {},
          "execution_count": 47
        }
      ]
    },
    {
      "cell_type": "code",
      "source": [
        "accuracy_score(test_pred, y_test)"
      ],
      "metadata": {
        "colab": {
          "base_uri": "https://localhost:8080/"
        },
        "id": "mkPbsZ1DWsrD",
        "outputId": "39edcf53-6edd-4ff3-ae13-2230dae6e069"
      },
      "execution_count": 48,
      "outputs": [
        {
          "output_type": "execute_result",
          "data": {
            "text/plain": [
              "0.94384765625"
            ]
          },
          "metadata": {},
          "execution_count": 48
        }
      ]
    },
    {
      "cell_type": "code",
      "source": [
        "from sklearn.metrics import classification_report\n",
        "print(classification_report(y_test, test_pred))"
      ],
      "metadata": {
        "colab": {
          "base_uri": "https://localhost:8080/"
        },
        "id": "3jUXpXX78TyQ",
        "outputId": "4fdefe3d-e901-4df5-fc62-8d07a637ba26"
      },
      "execution_count": 49,
      "outputs": [
        {
          "output_type": "stream",
          "name": "stdout",
          "text": [
            "              precision    recall  f1-score   support\n",
            "\n",
            "        ENFJ       0.98      1.00      0.99      4902\n",
            "        ENFP       0.94      0.95      0.95      4977\n",
            "        ENTJ       0.97      0.99      0.98      5060\n",
            "        ENTP       0.90      0.90      0.90      5035\n",
            "        ESFJ       1.00      1.00      1.00      4989\n",
            "        ESFP       1.00      1.00      1.00      4883\n",
            "        ESTJ       1.00      1.00      1.00      5109\n",
            "        ESTP       0.99      1.00      1.00      5011\n",
            "        INFJ       0.89      0.85      0.87      5010\n",
            "        INFP       0.94      0.97      0.95      4973\n",
            "        INTJ       0.78      0.72      0.75      4949\n",
            "        INTP       0.76      0.72      0.74      4960\n",
            "        ISFJ       0.99      1.00      1.00      4950\n",
            "        ISFP       0.99      1.00      0.99      4929\n",
            "        ISTJ       0.99      1.00      0.99      5103\n",
            "        ISTP       0.96      0.99      0.98      5032\n",
            "\n",
            "    accuracy                           0.94     79872\n",
            "   macro avg       0.94      0.94      0.94     79872\n",
            "weighted avg       0.94      0.94      0.94     79872\n",
            "\n"
          ]
        }
      ]
    },
    {
      "cell_type": "markdown",
      "source": [
        "# **모델저장**"
      ],
      "metadata": {
        "id": "TFu3V0z87_M6"
      }
    },
    {
      "cell_type": "code",
      "source": [
        "import pickle\n",
        "\n",
        "with open('saved_model_result', 'wb') as f:\n",
        "    pickle.dump(svc_clf, f)"
      ],
      "metadata": {
        "id": "382zDddT4TaG"
      },
      "execution_count": 50,
      "outputs": []
    }
  ],
  "metadata": {
    "colab": {
      "provenance": [],
      "machine_shape": "hm",
      "toc_visible": true
    },
    "kernelspec": {
      "display_name": "Python 3",
      "name": "python3"
    },
    "language_info": {
      "name": "python"
    },
    "accelerator": "TPU"
  },
  "nbformat": 4,
  "nbformat_minor": 0
}