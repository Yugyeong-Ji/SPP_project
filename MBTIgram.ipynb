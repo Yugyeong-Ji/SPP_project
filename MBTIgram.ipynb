{
  "cells": [
    {
      "cell_type": "code",
      "execution_count": 110,
      "metadata": {
        "id": "f88dij2Wp2pb",
        "colab": {
          "base_uri": "https://localhost:8080/"
        },
        "outputId": "4574d963-3ba5-4efa-9d1f-ccb35c5d517a"
      },
      "outputs": [
        {
          "output_type": "stream",
          "name": "stdout",
          "text": [
            "Drive already mounted at /content/drive; to attempt to forcibly remount, call drive.mount(\"/content/drive\", force_remount=True).\n"
          ]
        }
      ],
      "source": [
        "from google.colab import drive\n",
        "drive.mount('/content/drive')"
      ]
    },
    {
      "cell_type": "code",
      "execution_count": 111,
      "metadata": {
        "id": "NqOU_C53xacg"
      },
      "outputs": [],
      "source": [
        "import pandas as pd\n",
        "import numpy as np\n",
        "import matplotlib.pyplot as plt\n",
        "from tensorflow.keras.preprocessing.text import Tokenizer\n",
        "from sklearn.feature_extraction.text import TfidfVectorizer\n",
        "from sklearn.model_selection import train_test_split\n",
        "from sklearn.svm import LinearSVC\n",
        "from sklearn.pipeline import Pipeline\n",
        "from sklearn.model_selection import GridSearchCV\n",
        "from sklearn.metrics import *\n",
        "from sklearn.linear_model import LogisticRegression\n",
        "from tqdm.notebook import tqdm\n",
        "import spacy\n",
        "from nltk.stem.snowball import SnowballStemmer"
      ]
    },
    {
      "cell_type": "code",
      "execution_count": 112,
      "metadata": {
        "id": "16PZwWBJoQqs"
      },
      "outputs": [],
      "source": [
        "train = pd.read_csv('/content/drive/MyDrive/spp_project/mbti_concat.csv')"
      ]
    },
    {
      "cell_type": "code",
      "execution_count": 113,
      "metadata": {
        "colab": {
          "base_uri": "https://localhost:8080/",
          "height": 424
        },
        "id": "PdLKKghdrT5B",
        "outputId": "a6dff973-66c4-4458-cc0a-67234b0f5463"
      },
      "outputs": [
        {
          "output_type": "execute_result",
          "data": {
            "text/plain": [
              "        Unnamed: 0                                              posts  type\n",
              "0                0  know intj tool use interaction people excuse a...  INTJ\n",
              "1                1  rap music ehh opp yeah know valid well know fa...  INTJ\n",
              "2                2  preferably p hd low except wew lad video p min...  INTJ\n",
              "3                3  drink like wish could drink red wine give head...  INTJ\n",
              "4                4  space program ah bad deal meing freelance max ...  INTJ\n",
              "...            ...                                                ...   ...\n",
              "114737      114737  'https://www.youtube.com/watch?v=t8edHB_h908||...  ISFP\n",
              "114738      114738  'So...if this thread already exists someplace ...  ENFP\n",
              "114739      114739  'So many questions when i do these things.  I ...  INTP\n",
              "114740      114740  'I am very conflicted right now when it comes ...  INFP\n",
              "114741      114741  'It has been too long since I have been on per...  INFP\n",
              "\n",
              "[114742 rows x 3 columns]"
            ],
            "text/html": [
              "\n",
              "\n",
              "  <div id=\"df-53159f7f-19cd-406d-ba6f-b0116e12a151\">\n",
              "    <div class=\"colab-df-container\">\n",
              "      <div>\n",
              "<style scoped>\n",
              "    .dataframe tbody tr th:only-of-type {\n",
              "        vertical-align: middle;\n",
              "    }\n",
              "\n",
              "    .dataframe tbody tr th {\n",
              "        vertical-align: top;\n",
              "    }\n",
              "\n",
              "    .dataframe thead th {\n",
              "        text-align: right;\n",
              "    }\n",
              "</style>\n",
              "<table border=\"1\" class=\"dataframe\">\n",
              "  <thead>\n",
              "    <tr style=\"text-align: right;\">\n",
              "      <th></th>\n",
              "      <th>Unnamed: 0</th>\n",
              "      <th>posts</th>\n",
              "      <th>type</th>\n",
              "    </tr>\n",
              "  </thead>\n",
              "  <tbody>\n",
              "    <tr>\n",
              "      <th>0</th>\n",
              "      <td>0</td>\n",
              "      <td>know intj tool use interaction people excuse a...</td>\n",
              "      <td>INTJ</td>\n",
              "    </tr>\n",
              "    <tr>\n",
              "      <th>1</th>\n",
              "      <td>1</td>\n",
              "      <td>rap music ehh opp yeah know valid well know fa...</td>\n",
              "      <td>INTJ</td>\n",
              "    </tr>\n",
              "    <tr>\n",
              "      <th>2</th>\n",
              "      <td>2</td>\n",
              "      <td>preferably p hd low except wew lad video p min...</td>\n",
              "      <td>INTJ</td>\n",
              "    </tr>\n",
              "    <tr>\n",
              "      <th>3</th>\n",
              "      <td>3</td>\n",
              "      <td>drink like wish could drink red wine give head...</td>\n",
              "      <td>INTJ</td>\n",
              "    </tr>\n",
              "    <tr>\n",
              "      <th>4</th>\n",
              "      <td>4</td>\n",
              "      <td>space program ah bad deal meing freelance max ...</td>\n",
              "      <td>INTJ</td>\n",
              "    </tr>\n",
              "    <tr>\n",
              "      <th>...</th>\n",
              "      <td>...</td>\n",
              "      <td>...</td>\n",
              "      <td>...</td>\n",
              "    </tr>\n",
              "    <tr>\n",
              "      <th>114737</th>\n",
              "      <td>114737</td>\n",
              "      <td>'https://www.youtube.com/watch?v=t8edHB_h908||...</td>\n",
              "      <td>ISFP</td>\n",
              "    </tr>\n",
              "    <tr>\n",
              "      <th>114738</th>\n",
              "      <td>114738</td>\n",
              "      <td>'So...if this thread already exists someplace ...</td>\n",
              "      <td>ENFP</td>\n",
              "    </tr>\n",
              "    <tr>\n",
              "      <th>114739</th>\n",
              "      <td>114739</td>\n",
              "      <td>'So many questions when i do these things.  I ...</td>\n",
              "      <td>INTP</td>\n",
              "    </tr>\n",
              "    <tr>\n",
              "      <th>114740</th>\n",
              "      <td>114740</td>\n",
              "      <td>'I am very conflicted right now when it comes ...</td>\n",
              "      <td>INFP</td>\n",
              "    </tr>\n",
              "    <tr>\n",
              "      <th>114741</th>\n",
              "      <td>114741</td>\n",
              "      <td>'It has been too long since I have been on per...</td>\n",
              "      <td>INFP</td>\n",
              "    </tr>\n",
              "  </tbody>\n",
              "</table>\n",
              "<p>114742 rows × 3 columns</p>\n",
              "</div>\n",
              "      <button class=\"colab-df-convert\" onclick=\"convertToInteractive('df-53159f7f-19cd-406d-ba6f-b0116e12a151')\"\n",
              "              title=\"Convert this dataframe to an interactive table.\"\n",
              "              style=\"display:none;\">\n",
              "\n",
              "  <svg xmlns=\"http://www.w3.org/2000/svg\" height=\"24px\"viewBox=\"0 0 24 24\"\n",
              "       width=\"24px\">\n",
              "    <path d=\"M0 0h24v24H0V0z\" fill=\"none\"/>\n",
              "    <path d=\"M18.56 5.44l.94 2.06.94-2.06 2.06-.94-2.06-.94-.94-2.06-.94 2.06-2.06.94zm-11 1L8.5 8.5l.94-2.06 2.06-.94-2.06-.94L8.5 2.5l-.94 2.06-2.06.94zm10 10l.94 2.06.94-2.06 2.06-.94-2.06-.94-.94-2.06-.94 2.06-2.06.94z\"/><path d=\"M17.41 7.96l-1.37-1.37c-.4-.4-.92-.59-1.43-.59-.52 0-1.04.2-1.43.59L10.3 9.45l-7.72 7.72c-.78.78-.78 2.05 0 2.83L4 21.41c.39.39.9.59 1.41.59.51 0 1.02-.2 1.41-.59l7.78-7.78 2.81-2.81c.8-.78.8-2.07 0-2.86zM5.41 20L4 18.59l7.72-7.72 1.47 1.35L5.41 20z\"/>\n",
              "  </svg>\n",
              "      </button>\n",
              "\n",
              "\n",
              "\n",
              "    <div id=\"df-a8c67665-e78c-4e12-9ccd-459b2d10f29e\">\n",
              "      <button class=\"colab-df-quickchart\" onclick=\"quickchart('df-a8c67665-e78c-4e12-9ccd-459b2d10f29e')\"\n",
              "              title=\"Suggest charts.\"\n",
              "              style=\"display:none;\">\n",
              "\n",
              "<svg xmlns=\"http://www.w3.org/2000/svg\" height=\"24px\"viewBox=\"0 0 24 24\"\n",
              "     width=\"24px\">\n",
              "    <g>\n",
              "        <path d=\"M19 3H5c-1.1 0-2 .9-2 2v14c0 1.1.9 2 2 2h14c1.1 0 2-.9 2-2V5c0-1.1-.9-2-2-2zM9 17H7v-7h2v7zm4 0h-2V7h2v10zm4 0h-2v-4h2v4z\"/>\n",
              "    </g>\n",
              "</svg>\n",
              "      </button>\n",
              "    </div>\n",
              "\n",
              "<style>\n",
              "  .colab-df-quickchart {\n",
              "    background-color: #E8F0FE;\n",
              "    border: none;\n",
              "    border-radius: 50%;\n",
              "    cursor: pointer;\n",
              "    display: none;\n",
              "    fill: #1967D2;\n",
              "    height: 32px;\n",
              "    padding: 0 0 0 0;\n",
              "    width: 32px;\n",
              "  }\n",
              "\n",
              "  .colab-df-quickchart:hover {\n",
              "    background-color: #E2EBFA;\n",
              "    box-shadow: 0px 1px 2px rgba(60, 64, 67, 0.3), 0px 1px 3px 1px rgba(60, 64, 67, 0.15);\n",
              "    fill: #174EA6;\n",
              "  }\n",
              "\n",
              "  [theme=dark] .colab-df-quickchart {\n",
              "    background-color: #3B4455;\n",
              "    fill: #D2E3FC;\n",
              "  }\n",
              "\n",
              "  [theme=dark] .colab-df-quickchart:hover {\n",
              "    background-color: #434B5C;\n",
              "    box-shadow: 0px 1px 3px 1px rgba(0, 0, 0, 0.15);\n",
              "    filter: drop-shadow(0px 1px 2px rgba(0, 0, 0, 0.3));\n",
              "    fill: #FFFFFF;\n",
              "  }\n",
              "</style>\n",
              "\n",
              "    <script>\n",
              "      async function quickchart(key) {\n",
              "        const containerElement = document.querySelector('#' + key);\n",
              "        const charts = await google.colab.kernel.invokeFunction(\n",
              "            'suggestCharts', [key], {});\n",
              "      }\n",
              "    </script>\n",
              "\n",
              "      <script>\n",
              "\n",
              "function displayQuickchartButton(domScope) {\n",
              "  let quickchartButtonEl =\n",
              "    domScope.querySelector('#df-a8c67665-e78c-4e12-9ccd-459b2d10f29e button.colab-df-quickchart');\n",
              "  quickchartButtonEl.style.display =\n",
              "    google.colab.kernel.accessAllowed ? 'block' : 'none';\n",
              "}\n",
              "\n",
              "        displayQuickchartButton(document);\n",
              "      </script>\n",
              "      <style>\n",
              "    .colab-df-container {\n",
              "      display:flex;\n",
              "      flex-wrap:wrap;\n",
              "      gap: 12px;\n",
              "    }\n",
              "\n",
              "    .colab-df-convert {\n",
              "      background-color: #E8F0FE;\n",
              "      border: none;\n",
              "      border-radius: 50%;\n",
              "      cursor: pointer;\n",
              "      display: none;\n",
              "      fill: #1967D2;\n",
              "      height: 32px;\n",
              "      padding: 0 0 0 0;\n",
              "      width: 32px;\n",
              "    }\n",
              "\n",
              "    .colab-df-convert:hover {\n",
              "      background-color: #E2EBFA;\n",
              "      box-shadow: 0px 1px 2px rgba(60, 64, 67, 0.3), 0px 1px 3px 1px rgba(60, 64, 67, 0.15);\n",
              "      fill: #174EA6;\n",
              "    }\n",
              "\n",
              "    [theme=dark] .colab-df-convert {\n",
              "      background-color: #3B4455;\n",
              "      fill: #D2E3FC;\n",
              "    }\n",
              "\n",
              "    [theme=dark] .colab-df-convert:hover {\n",
              "      background-color: #434B5C;\n",
              "      box-shadow: 0px 1px 3px 1px rgba(0, 0, 0, 0.15);\n",
              "      filter: drop-shadow(0px 1px 2px rgba(0, 0, 0, 0.3));\n",
              "      fill: #FFFFFF;\n",
              "    }\n",
              "  </style>\n",
              "\n",
              "      <script>\n",
              "        const buttonEl =\n",
              "          document.querySelector('#df-53159f7f-19cd-406d-ba6f-b0116e12a151 button.colab-df-convert');\n",
              "        buttonEl.style.display =\n",
              "          google.colab.kernel.accessAllowed ? 'block' : 'none';\n",
              "\n",
              "        async function convertToInteractive(key) {\n",
              "          const element = document.querySelector('#df-53159f7f-19cd-406d-ba6f-b0116e12a151');\n",
              "          const dataTable =\n",
              "            await google.colab.kernel.invokeFunction('convertToInteractive',\n",
              "                                                     [key], {});\n",
              "          if (!dataTable) return;\n",
              "\n",
              "          const docLinkHtml = 'Like what you see? Visit the ' +\n",
              "            '<a target=\"_blank\" href=https://colab.research.google.com/notebooks/data_table.ipynb>data table notebook</a>'\n",
              "            + ' to learn more about interactive tables.';\n",
              "          element.innerHTML = '';\n",
              "          dataTable['output_type'] = 'display_data';\n",
              "          await google.colab.output.renderOutput(dataTable, element);\n",
              "          const docLink = document.createElement('div');\n",
              "          docLink.innerHTML = docLinkHtml;\n",
              "          element.appendChild(docLink);\n",
              "        }\n",
              "      </script>\n",
              "    </div>\n",
              "  </div>\n"
            ]
          },
          "metadata": {},
          "execution_count": 113
        }
      ],
      "source": [
        "train"
      ]
    },
    {
      "cell_type": "code",
      "source": [
        "train = train.drop(['Unnamed: 0'], axis=1)"
      ],
      "metadata": {
        "id": "TIfWKVc7QSuK"
      },
      "execution_count": 114,
      "outputs": []
    },
    {
      "cell_type": "code",
      "source": [
        "train"
      ],
      "metadata": {
        "colab": {
          "base_uri": "https://localhost:8080/",
          "height": 424
        },
        "id": "OP11JOggQZtB",
        "outputId": "8453815d-a61d-4fa8-944b-c6b5e348c638"
      },
      "execution_count": 115,
      "outputs": [
        {
          "output_type": "execute_result",
          "data": {
            "text/plain": [
              "                                                    posts  type\n",
              "0       know intj tool use interaction people excuse a...  INTJ\n",
              "1       rap music ehh opp yeah know valid well know fa...  INTJ\n",
              "2       preferably p hd low except wew lad video p min...  INTJ\n",
              "3       drink like wish could drink red wine give head...  INTJ\n",
              "4       space program ah bad deal meing freelance max ...  INTJ\n",
              "...                                                   ...   ...\n",
              "114737  'https://www.youtube.com/watch?v=t8edHB_h908||...  ISFP\n",
              "114738  'So...if this thread already exists someplace ...  ENFP\n",
              "114739  'So many questions when i do these things.  I ...  INTP\n",
              "114740  'I am very conflicted right now when it comes ...  INFP\n",
              "114741  'It has been too long since I have been on per...  INFP\n",
              "\n",
              "[114742 rows x 2 columns]"
            ],
            "text/html": [
              "\n",
              "\n",
              "  <div id=\"df-55c02732-59bc-409a-b212-866798800d77\">\n",
              "    <div class=\"colab-df-container\">\n",
              "      <div>\n",
              "<style scoped>\n",
              "    .dataframe tbody tr th:only-of-type {\n",
              "        vertical-align: middle;\n",
              "    }\n",
              "\n",
              "    .dataframe tbody tr th {\n",
              "        vertical-align: top;\n",
              "    }\n",
              "\n",
              "    .dataframe thead th {\n",
              "        text-align: right;\n",
              "    }\n",
              "</style>\n",
              "<table border=\"1\" class=\"dataframe\">\n",
              "  <thead>\n",
              "    <tr style=\"text-align: right;\">\n",
              "      <th></th>\n",
              "      <th>posts</th>\n",
              "      <th>type</th>\n",
              "    </tr>\n",
              "  </thead>\n",
              "  <tbody>\n",
              "    <tr>\n",
              "      <th>0</th>\n",
              "      <td>know intj tool use interaction people excuse a...</td>\n",
              "      <td>INTJ</td>\n",
              "    </tr>\n",
              "    <tr>\n",
              "      <th>1</th>\n",
              "      <td>rap music ehh opp yeah know valid well know fa...</td>\n",
              "      <td>INTJ</td>\n",
              "    </tr>\n",
              "    <tr>\n",
              "      <th>2</th>\n",
              "      <td>preferably p hd low except wew lad video p min...</td>\n",
              "      <td>INTJ</td>\n",
              "    </tr>\n",
              "    <tr>\n",
              "      <th>3</th>\n",
              "      <td>drink like wish could drink red wine give head...</td>\n",
              "      <td>INTJ</td>\n",
              "    </tr>\n",
              "    <tr>\n",
              "      <th>4</th>\n",
              "      <td>space program ah bad deal meing freelance max ...</td>\n",
              "      <td>INTJ</td>\n",
              "    </tr>\n",
              "    <tr>\n",
              "      <th>...</th>\n",
              "      <td>...</td>\n",
              "      <td>...</td>\n",
              "    </tr>\n",
              "    <tr>\n",
              "      <th>114737</th>\n",
              "      <td>'https://www.youtube.com/watch?v=t8edHB_h908||...</td>\n",
              "      <td>ISFP</td>\n",
              "    </tr>\n",
              "    <tr>\n",
              "      <th>114738</th>\n",
              "      <td>'So...if this thread already exists someplace ...</td>\n",
              "      <td>ENFP</td>\n",
              "    </tr>\n",
              "    <tr>\n",
              "      <th>114739</th>\n",
              "      <td>'So many questions when i do these things.  I ...</td>\n",
              "      <td>INTP</td>\n",
              "    </tr>\n",
              "    <tr>\n",
              "      <th>114740</th>\n",
              "      <td>'I am very conflicted right now when it comes ...</td>\n",
              "      <td>INFP</td>\n",
              "    </tr>\n",
              "    <tr>\n",
              "      <th>114741</th>\n",
              "      <td>'It has been too long since I have been on per...</td>\n",
              "      <td>INFP</td>\n",
              "    </tr>\n",
              "  </tbody>\n",
              "</table>\n",
              "<p>114742 rows × 2 columns</p>\n",
              "</div>\n",
              "      <button class=\"colab-df-convert\" onclick=\"convertToInteractive('df-55c02732-59bc-409a-b212-866798800d77')\"\n",
              "              title=\"Convert this dataframe to an interactive table.\"\n",
              "              style=\"display:none;\">\n",
              "\n",
              "  <svg xmlns=\"http://www.w3.org/2000/svg\" height=\"24px\"viewBox=\"0 0 24 24\"\n",
              "       width=\"24px\">\n",
              "    <path d=\"M0 0h24v24H0V0z\" fill=\"none\"/>\n",
              "    <path d=\"M18.56 5.44l.94 2.06.94-2.06 2.06-.94-2.06-.94-.94-2.06-.94 2.06-2.06.94zm-11 1L8.5 8.5l.94-2.06 2.06-.94-2.06-.94L8.5 2.5l-.94 2.06-2.06.94zm10 10l.94 2.06.94-2.06 2.06-.94-2.06-.94-.94-2.06-.94 2.06-2.06.94z\"/><path d=\"M17.41 7.96l-1.37-1.37c-.4-.4-.92-.59-1.43-.59-.52 0-1.04.2-1.43.59L10.3 9.45l-7.72 7.72c-.78.78-.78 2.05 0 2.83L4 21.41c.39.39.9.59 1.41.59.51 0 1.02-.2 1.41-.59l7.78-7.78 2.81-2.81c.8-.78.8-2.07 0-2.86zM5.41 20L4 18.59l7.72-7.72 1.47 1.35L5.41 20z\"/>\n",
              "  </svg>\n",
              "      </button>\n",
              "\n",
              "\n",
              "\n",
              "    <div id=\"df-7a2bca96-db6e-44cc-98b8-c108936a69d0\">\n",
              "      <button class=\"colab-df-quickchart\" onclick=\"quickchart('df-7a2bca96-db6e-44cc-98b8-c108936a69d0')\"\n",
              "              title=\"Suggest charts.\"\n",
              "              style=\"display:none;\">\n",
              "\n",
              "<svg xmlns=\"http://www.w3.org/2000/svg\" height=\"24px\"viewBox=\"0 0 24 24\"\n",
              "     width=\"24px\">\n",
              "    <g>\n",
              "        <path d=\"M19 3H5c-1.1 0-2 .9-2 2v14c0 1.1.9 2 2 2h14c1.1 0 2-.9 2-2V5c0-1.1-.9-2-2-2zM9 17H7v-7h2v7zm4 0h-2V7h2v10zm4 0h-2v-4h2v4z\"/>\n",
              "    </g>\n",
              "</svg>\n",
              "      </button>\n",
              "    </div>\n",
              "\n",
              "<style>\n",
              "  .colab-df-quickchart {\n",
              "    background-color: #E8F0FE;\n",
              "    border: none;\n",
              "    border-radius: 50%;\n",
              "    cursor: pointer;\n",
              "    display: none;\n",
              "    fill: #1967D2;\n",
              "    height: 32px;\n",
              "    padding: 0 0 0 0;\n",
              "    width: 32px;\n",
              "  }\n",
              "\n",
              "  .colab-df-quickchart:hover {\n",
              "    background-color: #E2EBFA;\n",
              "    box-shadow: 0px 1px 2px rgba(60, 64, 67, 0.3), 0px 1px 3px 1px rgba(60, 64, 67, 0.15);\n",
              "    fill: #174EA6;\n",
              "  }\n",
              "\n",
              "  [theme=dark] .colab-df-quickchart {\n",
              "    background-color: #3B4455;\n",
              "    fill: #D2E3FC;\n",
              "  }\n",
              "\n",
              "  [theme=dark] .colab-df-quickchart:hover {\n",
              "    background-color: #434B5C;\n",
              "    box-shadow: 0px 1px 3px 1px rgba(0, 0, 0, 0.15);\n",
              "    filter: drop-shadow(0px 1px 2px rgba(0, 0, 0, 0.3));\n",
              "    fill: #FFFFFF;\n",
              "  }\n",
              "</style>\n",
              "\n",
              "    <script>\n",
              "      async function quickchart(key) {\n",
              "        const containerElement = document.querySelector('#' + key);\n",
              "        const charts = await google.colab.kernel.invokeFunction(\n",
              "            'suggestCharts', [key], {});\n",
              "      }\n",
              "    </script>\n",
              "\n",
              "      <script>\n",
              "\n",
              "function displayQuickchartButton(domScope) {\n",
              "  let quickchartButtonEl =\n",
              "    domScope.querySelector('#df-7a2bca96-db6e-44cc-98b8-c108936a69d0 button.colab-df-quickchart');\n",
              "  quickchartButtonEl.style.display =\n",
              "    google.colab.kernel.accessAllowed ? 'block' : 'none';\n",
              "}\n",
              "\n",
              "        displayQuickchartButton(document);\n",
              "      </script>\n",
              "      <style>\n",
              "    .colab-df-container {\n",
              "      display:flex;\n",
              "      flex-wrap:wrap;\n",
              "      gap: 12px;\n",
              "    }\n",
              "\n",
              "    .colab-df-convert {\n",
              "      background-color: #E8F0FE;\n",
              "      border: none;\n",
              "      border-radius: 50%;\n",
              "      cursor: pointer;\n",
              "      display: none;\n",
              "      fill: #1967D2;\n",
              "      height: 32px;\n",
              "      padding: 0 0 0 0;\n",
              "      width: 32px;\n",
              "    }\n",
              "\n",
              "    .colab-df-convert:hover {\n",
              "      background-color: #E2EBFA;\n",
              "      box-shadow: 0px 1px 2px rgba(60, 64, 67, 0.3), 0px 1px 3px 1px rgba(60, 64, 67, 0.15);\n",
              "      fill: #174EA6;\n",
              "    }\n",
              "\n",
              "    [theme=dark] .colab-df-convert {\n",
              "      background-color: #3B4455;\n",
              "      fill: #D2E3FC;\n",
              "    }\n",
              "\n",
              "    [theme=dark] .colab-df-convert:hover {\n",
              "      background-color: #434B5C;\n",
              "      box-shadow: 0px 1px 3px 1px rgba(0, 0, 0, 0.15);\n",
              "      filter: drop-shadow(0px 1px 2px rgba(0, 0, 0, 0.3));\n",
              "      fill: #FFFFFF;\n",
              "    }\n",
              "  </style>\n",
              "\n",
              "      <script>\n",
              "        const buttonEl =\n",
              "          document.querySelector('#df-55c02732-59bc-409a-b212-866798800d77 button.colab-df-convert');\n",
              "        buttonEl.style.display =\n",
              "          google.colab.kernel.accessAllowed ? 'block' : 'none';\n",
              "\n",
              "        async function convertToInteractive(key) {\n",
              "          const element = document.querySelector('#df-55c02732-59bc-409a-b212-866798800d77');\n",
              "          const dataTable =\n",
              "            await google.colab.kernel.invokeFunction('convertToInteractive',\n",
              "                                                     [key], {});\n",
              "          if (!dataTable) return;\n",
              "\n",
              "          const docLinkHtml = 'Like what you see? Visit the ' +\n",
              "            '<a target=\"_blank\" href=https://colab.research.google.com/notebooks/data_table.ipynb>data table notebook</a>'\n",
              "            + ' to learn more about interactive tables.';\n",
              "          element.innerHTML = '';\n",
              "          dataTable['output_type'] = 'display_data';\n",
              "          await google.colab.output.renderOutput(dataTable, element);\n",
              "          const docLink = document.createElement('div');\n",
              "          docLink.innerHTML = docLinkHtml;\n",
              "          element.appendChild(docLink);\n",
              "        }\n",
              "      </script>\n",
              "    </div>\n",
              "  </div>\n"
            ]
          },
          "metadata": {},
          "execution_count": 115
        }
      ]
    },
    {
      "cell_type": "code",
      "execution_count": 116,
      "metadata": {
        "colab": {
          "base_uri": "https://localhost:8080/",
          "height": 206
        },
        "id": "30Vopp9RPqpw",
        "outputId": "28fcf499-a51d-4e87-b752-53fd59be27e6"
      },
      "outputs": [
        {
          "output_type": "execute_result",
          "data": {
            "text/plain": [
              "                                               posts\n",
              "0  know intj tool use interaction people excuse a...\n",
              "1  rap music ehh opp yeah know valid well know fa...\n",
              "2  preferably p hd low except wew lad video p min...\n",
              "3  drink like wish could drink red wine give head...\n",
              "4  space program ah bad deal meing freelance max ..."
            ],
            "text/html": [
              "\n",
              "\n",
              "  <div id=\"df-70d1d5ff-c1d0-4ebd-8dab-6a527a336a02\">\n",
              "    <div class=\"colab-df-container\">\n",
              "      <div>\n",
              "<style scoped>\n",
              "    .dataframe tbody tr th:only-of-type {\n",
              "        vertical-align: middle;\n",
              "    }\n",
              "\n",
              "    .dataframe tbody tr th {\n",
              "        vertical-align: top;\n",
              "    }\n",
              "\n",
              "    .dataframe thead th {\n",
              "        text-align: right;\n",
              "    }\n",
              "</style>\n",
              "<table border=\"1\" class=\"dataframe\">\n",
              "  <thead>\n",
              "    <tr style=\"text-align: right;\">\n",
              "      <th></th>\n",
              "      <th>posts</th>\n",
              "    </tr>\n",
              "  </thead>\n",
              "  <tbody>\n",
              "    <tr>\n",
              "      <th>0</th>\n",
              "      <td>know intj tool use interaction people excuse a...</td>\n",
              "    </tr>\n",
              "    <tr>\n",
              "      <th>1</th>\n",
              "      <td>rap music ehh opp yeah know valid well know fa...</td>\n",
              "    </tr>\n",
              "    <tr>\n",
              "      <th>2</th>\n",
              "      <td>preferably p hd low except wew lad video p min...</td>\n",
              "    </tr>\n",
              "    <tr>\n",
              "      <th>3</th>\n",
              "      <td>drink like wish could drink red wine give head...</td>\n",
              "    </tr>\n",
              "    <tr>\n",
              "      <th>4</th>\n",
              "      <td>space program ah bad deal meing freelance max ...</td>\n",
              "    </tr>\n",
              "  </tbody>\n",
              "</table>\n",
              "</div>\n",
              "      <button class=\"colab-df-convert\" onclick=\"convertToInteractive('df-70d1d5ff-c1d0-4ebd-8dab-6a527a336a02')\"\n",
              "              title=\"Convert this dataframe to an interactive table.\"\n",
              "              style=\"display:none;\">\n",
              "\n",
              "  <svg xmlns=\"http://www.w3.org/2000/svg\" height=\"24px\"viewBox=\"0 0 24 24\"\n",
              "       width=\"24px\">\n",
              "    <path d=\"M0 0h24v24H0V0z\" fill=\"none\"/>\n",
              "    <path d=\"M18.56 5.44l.94 2.06.94-2.06 2.06-.94-2.06-.94-.94-2.06-.94 2.06-2.06.94zm-11 1L8.5 8.5l.94-2.06 2.06-.94-2.06-.94L8.5 2.5l-.94 2.06-2.06.94zm10 10l.94 2.06.94-2.06 2.06-.94-2.06-.94-.94-2.06-.94 2.06-2.06.94z\"/><path d=\"M17.41 7.96l-1.37-1.37c-.4-.4-.92-.59-1.43-.59-.52 0-1.04.2-1.43.59L10.3 9.45l-7.72 7.72c-.78.78-.78 2.05 0 2.83L4 21.41c.39.39.9.59 1.41.59.51 0 1.02-.2 1.41-.59l7.78-7.78 2.81-2.81c.8-.78.8-2.07 0-2.86zM5.41 20L4 18.59l7.72-7.72 1.47 1.35L5.41 20z\"/>\n",
              "  </svg>\n",
              "      </button>\n",
              "\n",
              "\n",
              "\n",
              "    <div id=\"df-f12079b2-0328-4381-a979-89677e0d37d6\">\n",
              "      <button class=\"colab-df-quickchart\" onclick=\"quickchart('df-f12079b2-0328-4381-a979-89677e0d37d6')\"\n",
              "              title=\"Suggest charts.\"\n",
              "              style=\"display:none;\">\n",
              "\n",
              "<svg xmlns=\"http://www.w3.org/2000/svg\" height=\"24px\"viewBox=\"0 0 24 24\"\n",
              "     width=\"24px\">\n",
              "    <g>\n",
              "        <path d=\"M19 3H5c-1.1 0-2 .9-2 2v14c0 1.1.9 2 2 2h14c1.1 0 2-.9 2-2V5c0-1.1-.9-2-2-2zM9 17H7v-7h2v7zm4 0h-2V7h2v10zm4 0h-2v-4h2v4z\"/>\n",
              "    </g>\n",
              "</svg>\n",
              "      </button>\n",
              "    </div>\n",
              "\n",
              "<style>\n",
              "  .colab-df-quickchart {\n",
              "    background-color: #E8F0FE;\n",
              "    border: none;\n",
              "    border-radius: 50%;\n",
              "    cursor: pointer;\n",
              "    display: none;\n",
              "    fill: #1967D2;\n",
              "    height: 32px;\n",
              "    padding: 0 0 0 0;\n",
              "    width: 32px;\n",
              "  }\n",
              "\n",
              "  .colab-df-quickchart:hover {\n",
              "    background-color: #E2EBFA;\n",
              "    box-shadow: 0px 1px 2px rgba(60, 64, 67, 0.3), 0px 1px 3px 1px rgba(60, 64, 67, 0.15);\n",
              "    fill: #174EA6;\n",
              "  }\n",
              "\n",
              "  [theme=dark] .colab-df-quickchart {\n",
              "    background-color: #3B4455;\n",
              "    fill: #D2E3FC;\n",
              "  }\n",
              "\n",
              "  [theme=dark] .colab-df-quickchart:hover {\n",
              "    background-color: #434B5C;\n",
              "    box-shadow: 0px 1px 3px 1px rgba(0, 0, 0, 0.15);\n",
              "    filter: drop-shadow(0px 1px 2px rgba(0, 0, 0, 0.3));\n",
              "    fill: #FFFFFF;\n",
              "  }\n",
              "</style>\n",
              "\n",
              "    <script>\n",
              "      async function quickchart(key) {\n",
              "        const containerElement = document.querySelector('#' + key);\n",
              "        const charts = await google.colab.kernel.invokeFunction(\n",
              "            'suggestCharts', [key], {});\n",
              "      }\n",
              "    </script>\n",
              "\n",
              "      <script>\n",
              "\n",
              "function displayQuickchartButton(domScope) {\n",
              "  let quickchartButtonEl =\n",
              "    domScope.querySelector('#df-f12079b2-0328-4381-a979-89677e0d37d6 button.colab-df-quickchart');\n",
              "  quickchartButtonEl.style.display =\n",
              "    google.colab.kernel.accessAllowed ? 'block' : 'none';\n",
              "}\n",
              "\n",
              "        displayQuickchartButton(document);\n",
              "      </script>\n",
              "      <style>\n",
              "    .colab-df-container {\n",
              "      display:flex;\n",
              "      flex-wrap:wrap;\n",
              "      gap: 12px;\n",
              "    }\n",
              "\n",
              "    .colab-df-convert {\n",
              "      background-color: #E8F0FE;\n",
              "      border: none;\n",
              "      border-radius: 50%;\n",
              "      cursor: pointer;\n",
              "      display: none;\n",
              "      fill: #1967D2;\n",
              "      height: 32px;\n",
              "      padding: 0 0 0 0;\n",
              "      width: 32px;\n",
              "    }\n",
              "\n",
              "    .colab-df-convert:hover {\n",
              "      background-color: #E2EBFA;\n",
              "      box-shadow: 0px 1px 2px rgba(60, 64, 67, 0.3), 0px 1px 3px 1px rgba(60, 64, 67, 0.15);\n",
              "      fill: #174EA6;\n",
              "    }\n",
              "\n",
              "    [theme=dark] .colab-df-convert {\n",
              "      background-color: #3B4455;\n",
              "      fill: #D2E3FC;\n",
              "    }\n",
              "\n",
              "    [theme=dark] .colab-df-convert:hover {\n",
              "      background-color: #434B5C;\n",
              "      box-shadow: 0px 1px 3px 1px rgba(0, 0, 0, 0.15);\n",
              "      filter: drop-shadow(0px 1px 2px rgba(0, 0, 0, 0.3));\n",
              "      fill: #FFFFFF;\n",
              "    }\n",
              "  </style>\n",
              "\n",
              "      <script>\n",
              "        const buttonEl =\n",
              "          document.querySelector('#df-70d1d5ff-c1d0-4ebd-8dab-6a527a336a02 button.colab-df-convert');\n",
              "        buttonEl.style.display =\n",
              "          google.colab.kernel.accessAllowed ? 'block' : 'none';\n",
              "\n",
              "        async function convertToInteractive(key) {\n",
              "          const element = document.querySelector('#df-70d1d5ff-c1d0-4ebd-8dab-6a527a336a02');\n",
              "          const dataTable =\n",
              "            await google.colab.kernel.invokeFunction('convertToInteractive',\n",
              "                                                     [key], {});\n",
              "          if (!dataTable) return;\n",
              "\n",
              "          const docLinkHtml = 'Like what you see? Visit the ' +\n",
              "            '<a target=\"_blank\" href=https://colab.research.google.com/notebooks/data_table.ipynb>data table notebook</a>'\n",
              "            + ' to learn more about interactive tables.';\n",
              "          element.innerHTML = '';\n",
              "          dataTable['output_type'] = 'display_data';\n",
              "          await google.colab.output.renderOutput(dataTable, element);\n",
              "          const docLink = document.createElement('div');\n",
              "          docLink.innerHTML = docLinkHtml;\n",
              "          element.appendChild(docLink);\n",
              "        }\n",
              "      </script>\n",
              "    </div>\n",
              "  </div>\n"
            ]
          },
          "metadata": {},
          "execution_count": 116
        }
      ],
      "source": [
        "test = train.drop(['type'], axis=1)\n",
        "test.head()"
      ]
    },
    {
      "cell_type": "markdown",
      "metadata": {
        "id": "QfT699S-NTF1"
      },
      "source": [
        "## **EDA**\n",
        "1. 라벨 개수 확인"
      ]
    },
    {
      "cell_type": "code",
      "execution_count": 117,
      "metadata": {
        "colab": {
          "base_uri": "https://localhost:8080/"
        },
        "id": "46NeRXKiNSNm",
        "outputId": "0c4f9619-9db3-4483-e35c-6b226d32a371"
      },
      "outputs": [
        {
          "output_type": "stream",
          "name": "stdout",
          "text": [
            "16개\n"
          ]
        }
      ],
      "source": [
        "print(f\"{len(train['type'].unique())}개\")"
      ]
    },
    {
      "cell_type": "markdown",
      "metadata": {
        "id": "N2PLMWfYRc57"
      },
      "source": [
        "2. 라벨별 비율 확인"
      ]
    },
    {
      "cell_type": "code",
      "execution_count": 118,
      "metadata": {
        "colab": {
          "base_uri": "https://localhost:8080/"
        },
        "id": "KnUczFU8RftE",
        "outputId": "d86c294c-72dd-45af-faf7-acc5cd164758"
      },
      "outputs": [
        {
          "output_type": "execute_result",
          "data": {
            "text/plain": [
              "INTP    26265\n",
              "INTJ    23518\n",
              "INFJ    16433\n",
              "INFP    13966\n",
              "ENTP    12410\n",
              "ENFP     6842\n",
              "ISTP     3761\n",
              "ENTJ     3186\n",
              "ESTP     2075\n",
              "ENFJ     1724\n",
              "ISTJ     1448\n",
              "ISFP     1146\n",
              "ISFJ      816\n",
              "ESTJ      521\n",
              "ESFP      408\n",
              "ESFJ      223\n",
              "Name: type, dtype: int64"
            ]
          },
          "metadata": {},
          "execution_count": 118
        }
      ],
      "source": [
        "train['type'].value_counts()"
      ]
    },
    {
      "cell_type": "code",
      "execution_count": 119,
      "metadata": {
        "id": "uoxperdXSDBG"
      },
      "outputs": [],
      "source": [
        "# plt.pie(train['type'])"
      ]
    },
    {
      "cell_type": "markdown",
      "metadata": {
        "id": "lNBBAcRBuFeR"
      },
      "source": [
        "3. 결측치 확인"
      ]
    },
    {
      "cell_type": "code",
      "execution_count": 120,
      "metadata": {
        "colab": {
          "base_uri": "https://localhost:8080/"
        },
        "id": "xqKgxO-ct_z8",
        "outputId": "e62fffbb-210e-4388-c018-e8171878824a"
      },
      "outputs": [
        {
          "output_type": "execute_result",
          "data": {
            "text/plain": [
              "posts    0\n",
              "type     0\n",
              "dtype: int64"
            ]
          },
          "metadata": {},
          "execution_count": 120
        }
      ],
      "source": [
        "train.isnull().sum()"
      ]
    },
    {
      "cell_type": "markdown",
      "metadata": {
        "id": "X-B-eUzwudEG"
      },
      "source": [
        "4. 데이터 중복 여부 확인"
      ]
    },
    {
      "cell_type": "code",
      "execution_count": 121,
      "metadata": {
        "colab": {
          "base_uri": "https://localhost:8080/"
        },
        "id": "snZhSchBucKA",
        "outputId": "63d1d513-2aa4-44e0-e0ad-483546c39c57"
      },
      "outputs": [
        {
          "output_type": "execute_result",
          "data": {
            "text/plain": [
              "True"
            ]
          },
          "metadata": {},
          "execution_count": 121
        }
      ],
      "source": [
        "train['posts'].nunique() == len(train['posts'])"
      ]
    },
    {
      "cell_type": "markdown",
      "metadata": {
        "id": "ssZ8EdMous6A"
      },
      "source": [
        "5. train, test 행렬 확인"
      ]
    },
    {
      "cell_type": "code",
      "execution_count": 122,
      "metadata": {
        "colab": {
          "base_uri": "https://localhost:8080/"
        },
        "id": "9fg1jDN6upbr",
        "outputId": "76c602fa-eabd-403b-cc08-3a3411268858"
      },
      "outputs": [
        {
          "output_type": "stream",
          "name": "stdout",
          "text": [
            "train data :  (114742, 2)\n",
            "test data :  (114742, 1)\n"
          ]
        }
      ],
      "source": [
        "print(\"train data : \", train.shape)\n",
        "print(\"test data : \", test.shape)"
      ]
    },
    {
      "cell_type": "markdown",
      "metadata": {
        "id": "3t-tdzk5vhF2"
      },
      "source": [
        "6. 각 MBTI 글자별 빈도수 확인"
      ]
    },
    {
      "cell_type": "code",
      "execution_count": 123,
      "metadata": {
        "colab": {
          "base_uri": "https://localhost:8080/"
        },
        "id": "DwYA7wcJvtza",
        "outputId": "2235c223-30cb-4c83-c823-c058c85f07a8"
      },
      "outputs": [
        {
          "output_type": "execute_result",
          "data": {
            "text/plain": [
              "I    87353\n",
              "E    27389\n",
              "Name: 0, dtype: int64"
            ]
          },
          "metadata": {},
          "execution_count": 123
        }
      ],
      "source": [
        "# E, I 빈도수 확인\n",
        "first = []\n",
        "for i in range(len(train)):\n",
        "    first.append(train['type'][i][0])\n",
        "first = pd.DataFrame(first)\n",
        "first[0].value_counts()"
      ]
    },
    {
      "cell_type": "code",
      "execution_count": 124,
      "metadata": {
        "colab": {
          "base_uri": "https://localhost:8080/"
        },
        "id": "v8jLeZ1vv2um",
        "outputId": "de8a8380-a655-4374-96a7-5513e83b7d26"
      },
      "outputs": [
        {
          "output_type": "execute_result",
          "data": {
            "text/plain": [
              "N    104344\n",
              "S     10398\n",
              "Name: 0, dtype: int64"
            ]
          },
          "metadata": {},
          "execution_count": 124
        }
      ],
      "source": [
        "# N, S 빈도수 확인\n",
        "second = []\n",
        "for i in range(len(train)):\n",
        "    second.append(train['type'][i][1])\n",
        "second = pd.DataFrame(second)\n",
        "second[0].value_counts()"
      ]
    },
    {
      "cell_type": "code",
      "execution_count": 125,
      "metadata": {
        "colab": {
          "base_uri": "https://localhost:8080/"
        },
        "id": "Tt7kN5LUwjd2",
        "outputId": "87791204-7fb3-4ae0-ea37-bff592a9eb1d"
      },
      "outputs": [
        {
          "output_type": "execute_result",
          "data": {
            "text/plain": [
              "T    73184\n",
              "F    41558\n",
              "Name: 0, dtype: int64"
            ]
          },
          "metadata": {},
          "execution_count": 125
        }
      ],
      "source": [
        "# T, F 빈도수 확인\n",
        "third = []\n",
        "for i in range(len(train)):\n",
        "    third.append(train['type'][i][2])\n",
        "third = pd.DataFrame(third)\n",
        "third[0].value_counts()"
      ]
    },
    {
      "cell_type": "code",
      "execution_count": 126,
      "metadata": {
        "colab": {
          "base_uri": "https://localhost:8080/"
        },
        "id": "RGqvt8VIwoU_",
        "outputId": "3e08c339-968d-4ccd-fe65-8056df2fade1"
      },
      "outputs": [
        {
          "output_type": "execute_result",
          "data": {
            "text/plain": [
              "P    66873\n",
              "J    47869\n",
              "Name: 0, dtype: int64"
            ]
          },
          "metadata": {},
          "execution_count": 126
        }
      ],
      "source": [
        "# P, J 빈도수 확인\n",
        "fourth = []\n",
        "for i in range(len(train)):\n",
        "    fourth.append(train['type'][i][3])\n",
        "fourth = pd.DataFrame(fourth)\n",
        "fourth[0].value_counts()"
      ]
    },
    {
      "cell_type": "markdown",
      "metadata": {
        "id": "n-oZxTQiw1Lm"
      },
      "source": [
        "## **Split data**"
      ]
    },
    {
      "cell_type": "code",
      "execution_count": 127,
      "metadata": {
        "id": "6JfLT5w6w0QA"
      },
      "outputs": [],
      "source": [
        "X = train[['posts']] # data features\n",
        "Y = train[['type']] # labels\n",
        "X_train, X_valid, y_train, y_valid = train_test_split(X, Y, test_size=0.2, random_state=1) # test size = 0.3도 해보기"
      ]
    },
    {
      "cell_type": "code",
      "source": [
        "y_train.value_counts()"
      ],
      "metadata": {
        "colab": {
          "base_uri": "https://localhost:8080/"
        },
        "id": "XrVVx_fELyNI",
        "outputId": "8551c7b7-b7cf-4cb6-f0be-0c5ae5e91275"
      },
      "execution_count": 128,
      "outputs": [
        {
          "output_type": "execute_result",
          "data": {
            "text/plain": [
              "type\n",
              "INTP    21066\n",
              "INTJ    18732\n",
              "INFJ    13118\n",
              "INFP    11232\n",
              "ENTP     9927\n",
              "ENFP     5490\n",
              "ISTP     3026\n",
              "ENTJ     2526\n",
              "ESTP     1649\n",
              "ENFJ     1366\n",
              "ISTJ     1169\n",
              "ISFP      905\n",
              "ISFJ      669\n",
              "ESTJ      403\n",
              "ESFP      335\n",
              "ESFJ      180\n",
              "dtype: int64"
            ]
          },
          "metadata": {},
          "execution_count": 128
        }
      ]
    },
    {
      "cell_type": "markdown",
      "source": [
        "# **데이터 클래스 불균형 해결-Undersampling**"
      ],
      "metadata": {
        "id": "6gt9kGSTh0jw"
      }
    },
    {
      "cell_type": "code",
      "source": [
        "!pip install imbalanced-learn"
      ],
      "metadata": {
        "colab": {
          "base_uri": "https://localhost:8080/"
        },
        "id": "-3qMytOQMEJ3",
        "outputId": "204fa9b0-f6c9-40c0-faf2-92657ac0297e"
      },
      "execution_count": 129,
      "outputs": [
        {
          "output_type": "stream",
          "name": "stdout",
          "text": [
            "Requirement already satisfied: imbalanced-learn in /usr/local/lib/python3.10/dist-packages (0.10.1)\n",
            "Requirement already satisfied: numpy>=1.17.3 in /usr/local/lib/python3.10/dist-packages (from imbalanced-learn) (1.25.2)\n",
            "Requirement already satisfied: scipy>=1.3.2 in /usr/local/lib/python3.10/dist-packages (from imbalanced-learn) (1.11.1)\n",
            "Requirement already satisfied: scikit-learn>=1.0.2 in /usr/local/lib/python3.10/dist-packages (from imbalanced-learn) (1.2.2)\n",
            "Requirement already satisfied: joblib>=1.1.1 in /usr/local/lib/python3.10/dist-packages (from imbalanced-learn) (1.3.1)\n",
            "Requirement already satisfied: threadpoolctl>=2.0.0 in /usr/local/lib/python3.10/dist-packages (from imbalanced-learn) (3.2.0)\n"
          ]
        }
      ]
    },
    {
      "cell_type": "code",
      "source": [
        "from imblearn.under_sampling import RandomUnderSampler\n",
        "\n",
        "X_resampled, y_resampled = RandomUnderSampler(random_state=0).fit_resample(X_train, y_train)"
      ],
      "metadata": {
        "id": "tU_l8knZBDml"
      },
      "execution_count": 130,
      "outputs": []
    },
    {
      "cell_type": "code",
      "source": [
        "X_resampled = X_resampled.to_numpy()\n",
        "y_resampled = y_resampled.to_numpy()\n",
        "X_valid = X_valid.to_numpy()\n",
        "y_valid = y_valid.to_numpy()"
      ],
      "metadata": {
        "id": "XrFw8xvFjJr0"
      },
      "execution_count": 131,
      "outputs": []
    },
    {
      "cell_type": "code",
      "source": [
        "X_resampled_reshape = X_resampled.ravel()\n",
        "y_resampled_reshape = y_resampled.ravel()\n",
        "X_valid_reshape = X_valid.ravel()\n",
        "y_valid_reshape = y_valid.ravel()"
      ],
      "metadata": {
        "id": "ZJZ8GSwYh49N"
      },
      "execution_count": 132,
      "outputs": []
    },
    {
      "cell_type": "code",
      "source": [
        "X = X.to_numpy()\n",
        "Y = Y.to_numpy()\n",
        "X_reshape = X.ravel()\n",
        "Y_reshape = Y.ravel()"
      ],
      "metadata": {
        "id": "uF-ntVFj27C7"
      },
      "execution_count": 133,
      "outputs": []
    },
    {
      "cell_type": "code",
      "source": [
        "# X_resampled_reshape = pd.DataFrame(X_resampled, columns = ['type'])\n",
        "# y_resampled_reshape = pd.DataFrame(y_resampled, columns = ['type'])\n",
        "# X_valid_reshape = pd.DataFrame(X_valid, columns = ['type'])\n",
        "# y_valid_reshape = pd.DataFrame(y_valid, columns = ['type'])"
      ],
      "metadata": {
        "id": "s8QIqdWjje7Z"
      },
      "execution_count": 134,
      "outputs": []
    },
    {
      "cell_type": "code",
      "source": [
        "import seaborn as sns"
      ],
      "metadata": {
        "id": "9T8P8yNpG-IW"
      },
      "execution_count": 135,
      "outputs": []
    },
    {
      "cell_type": "code",
      "source": [
        "y_resampled_reshape"
      ],
      "metadata": {
        "colab": {
          "base_uri": "https://localhost:8080/"
        },
        "id": "oYdUC-A5nzao",
        "outputId": "6dee880c-1af1-47b0-cde3-ae5a29db3815"
      },
      "execution_count": 136,
      "outputs": [
        {
          "output_type": "execute_result",
          "data": {
            "text/plain": [
              "array(['ENFJ', 'ENFJ', 'ENFJ', ..., 'ISTP', 'ISTP', 'ISTP'], dtype=object)"
            ]
          },
          "metadata": {},
          "execution_count": 136
        }
      ]
    },
    {
      "cell_type": "code",
      "source": [
        "X_resampled_reshape"
      ],
      "metadata": {
        "colab": {
          "base_uri": "https://localhost:8080/"
        },
        "id": "p9dnWCAFRmg8",
        "outputId": "2def82fd-b2f3-4aed-9005-9f8ba7e8587a"
      },
      "execution_count": 138,
      "outputs": [
        {
          "output_type": "execute_result",
          "data": {
            "text/plain": [
              "array(['project order compare two could argue like christianity judaism term relate share lot root uimately come much different conclusion guess esfj feel similar personality type quite many thrift store love majority wardrobe market lot unique cheap sometimes bnwt find okay talaga bang sure ka na miss back baka naman naghihintay lang siya ng move mo hehe process type refer process v resu dichotomy interest stuff imo data visualize anecdotally mom stepmom esfjs personality disorder former borderline latter obsessive compulsive personality disorder skeptical read guy sensitive tend overreact lol way phrase thing tell hilarious ask question yet also attack base nice logical read another example might sound like base research would say asshole would admit asshole would accept research say asshole question unlikely yield useful answer even phrase overly sensitive overreact judgement imply friend level sensitivity reaction wrong accord standard leave room mode exist short way always communicate friend see call blunt insensitive commit learn good interact friend might ask neutral question like say x seem upset upset say instead listen answer might walk eggshell around seem like literally anything say set sadly could continue experience post actually ask anywhere interact good seem ask sub confirm bias enfjs goal determine think snowflake probably find productive spend time sts nt let get along peace love force something worthwhile bonus story istj roommate way great roommate always super respectful belong boundary also make great scone hand nothing connect skilled mediator hear good intent bluntness hard work frankly something look friend point entertain think without necessarily believe haha thank also really free style everything set still attack collegial say agree last warn thank compliment upon time aspire writer unfortunately pursue idea learn space one utmost value sacred thing intp something begin see prior break yet unwillingly fail fully respect uimately fail apologize month road grant initiate conversation become best friend yeah become bite clingy seem desperate enfj fight hard believe fight hard others especially one love tend place need critical error realize understand need emotional tune bite independence much need personal growth yet still know always room carry thank honest feedback truly appreciate upvoted definitely correct regard understand need solitude like say silentshot alone choice typically mean something wrong feel like assume clearly case need good understand future thank much okay extend analogy talk content particular meme rather capacity language speaker participate memetic communication understand object claim high user prefer use logical analysis often may group necessarily individual level tend familiar particular field research branch philosophy like deal metaphor content give meme take issue assertion lack familiarity give meme give subject line reason equivalent lack capacity communicate memetically use cold hard logic say simply say find hard talk high f user sometimes lot interest thing interest explain lot extraneous background information able make point take fun conversation however infj know interest background easy talk take issue say often enjoy debate many high f user many aware common logical fallacy heuristic like spend time explain get meat argument take issue take issue claim high f user sometimes',\n",
              "       'remember stop troll love take time get know someone put effort get people talk u lol least know think spiritually right know er downvoted modern medicine likely mother probably would drive suicide mental heah problem quite possible infanticide well u find ton ppl stol ur dank meme think intj cover something actually welcome really glad enjoy thinker forbid depress fall love omnipresent bottomless never end look thesaurus yeah word mean infinite think kind funny one comment maybe everyone afraid enfjs read way much comment oh good make really happy hear oh saw flair feel embarrass feel attach enfp think good description good job blush thank something might consider good point experience infjs definitely way well think decisive come se maybe would good say interpret situation quickly base limit information something like appreciate appreciation adorable upboat use go friend house shitty day plop couch chat nap whatever time leave always feel much good easy spiral sadness already feel sad stick head long say regular exercise help immensely many day first place enfj gryffindor pukwudgie ilvermorny sort without read house beforehand avoid possible bias quite please resus fair know xxfxs love mean girl want start revolution always ready start one report back try learn french next arabic russian next queue think greek go happen agree currently lack experience think honestly big thing hey playa okay look much like club cocktail attire lot dress really want buy another one thank say sensitive day tell person thing afraid thing hate let see tire upset angry basically nowhere near best really funny base enfj behavior r mbti ask basically opposite much rather smash cuddle cuddle lead sex though even remember last time cry might annual thing also fairly pessimistic quick think people want talk spend time read people talk like person win sustain conversation enfj infj esfp enfp entj fit since enfj e would good fit different universe thread give much life torture star cross love kinda like nice everybody next level wanna get know proceed caution put wait see mode neither side really want make move suck side like really bad game chess mess chance girl really like pretty sure like well think also enfj two people play game tension unreal haha drop crazy hint neither make move stop talk aogether thin air really suck run painfully awkward even say hi good reason take away experience similar enfjs want somebody start idealize think step ahead psyche u recommend right take personally unless start act cold malice toward get along really well act weird test water bite probably think million thought per second keep maybe provide clarity relationship want even though great read people every enfj know include know girl legit like unless smack head say hey dumbass like right worry kinda process potential relationship relationship others thing live hayley think useful question istjs weird intjs would like others consider weird whereas intjs would usually play trust self report additionally people may think quite weird due vulnerable fe mean word weird vary across type',\n",
              "       \"'Good to know! Thanks :-)|||but but but ... I can't hug both my cows at the same time! My arms are too short :-(|||:-) welcome to the club|||oooo I love your list. I haven't seen Wargames but the rest of the movies Rock!! I love Star Trek Insurrection. And Meet Me In St. Louis. I'm a huge Judy fan. Also seven brides for seven brothers.|||Has anyone read Pillars of the Earth, and seen the mini-series? Can I get your opinion on both?  I've read Pillars multiple times, and love it. Its my favourite book of all time. But I was...|||Walking. My balance is horrible, I walk into things all the time.   And I always forget my age. Which makes me sound old and like I have memory problems, but I'm only .... carry the 1 .... uh ........|||Well, my legal first name which I don't use, and definitely do not like, was my mothers choice. It was the 70's and she named be after a character in a Latino song, which is odd, considering I am as...|||That I'm a good listener, and that I look 26 XD|||Iced Mocha at Starbucks.|||What if .... ifs and buts were candy and nuts?|||Some people are afraid of what is different from themselves, but others honestly believe they are better than others. Some because of hardships their ancestors have gone through, and so feel being...|||LMAO!!  That article is the stupidest thing I ever read. I'm not on Facebook because I'm not interested enough in peoples everyday ramblings about how often they go to the bathroom, and what...|||I will remember you - Sarah Mclachlan|||I can totally relate to this. I'm 5'10 and 160 lbs. I always get comments about how skinny I am but its all about proportion. I'm not tiny. But sometimes in my head I feel like I am. I have...|||Same :-) Doesn't apply to every tall skinny Caucasian guy, but the general area is right.|||I think that's reasonable to believe. Around people I know, I'm a total chatterbox and a social butterfly, but if I'm around someone I don't know how to read, or that I'm unsure about, then I tend to...|||lol!!! that was awesome.   I've only been with one partner. And I didn't sleep with him until after we were married. Haven't been with anyone since I've been divorced. I wouldn't look down at all...|||LOL!! I've heard that one before, but the part about the vaseline is new lmao. Ew I can totally picture it now ..... XP   A woman accompanies her husband to the doctor's office. After his checkup,...|||That is what I do as well. It helps me to get a really good playlist on my mp3 player or phone too :)   Also if you have any artistic inclinations, I got bored one weekend when I was grounded (and...|||Could you give us an idea of what you want to express?|||I was very disappointed with the mini series made of Pillars of the Earth. They had an underlying implication of an incestious realtionship between one of the main villians and his mother. They...|||Ahahaha! Ya well, that ain't gonna happen ...|||Thank you! I'm actually quite good at grasping the obvious. Its one of my more admirable traits.|||A TESTICLE!! Oh. Was that supposed to be rhetorical?|||Ahhhhh. Well, to each his own. If we were all the same, the world would be a pretty boring place.|||I just got midnight blue myself. Its a navy with a purple shine and little blue sparkles. and I got a flower painted on ;-)|||Just out of curiosity, how many think the girls took their number so they could get rid of them and then block them lol  Honestly if the guy from the first vid ever approached me, and tried that...|||What colours do you  prefer? (If your a guy, and you don't paint your own nails, is there a colour you like to see on women?)|||I LOVE that movie. We did a reenactment of one of the songs once. I think it was the one where they were comparing themselves to lonely farm animals lol|||The Stoning of Soraya M. - Based on a true story.|||Bob was in trouble. He forgot his wedding anniversary. His wife was really pissed.  She told him Tomorrow morning, I expect to find a gift in the driveway that goes from 0 to 200 in 6 seconds...|||They answer -- Its Complicated in response to a simple question.  (thank you. That doesn't answer a thing ... except that you don't want to answer my question.)|||HA!! I do that ALL the time. And I like the idea of getting extra food out of a restaurant by plucking a hair ...  Confession: Being tickled turns me on.|||At the moment, I am relaxing and listening to the cicadas a few birds and a couple of squirrels.  While watching Drop Dead Diva. However if you are into sexy, easy listening music, with a rougher...|||It was this part of the description that I really felt was describing me:  ENFJ's tend to be more reserved about exposing themselves than other  extraverted types.  Although they may have...|||Hey! I'm new too. Look forward to getting to know you :proud:|||I said no to drugs, but they just wouldn't listen.|||If you can stay calm while all around you is chaos, then you probably haven't completely understood the situation.|||I'm not an ISTJ - But this made me laugh.   Some people are like Slinkies ... not really good for anything, but you  can't help smiling when you see one tumble down the stairs|||Thanks! I looked into both, and I feel like I may relate more to ENFJ.|||Nope. I'm not sure of anything. That was just the latest results from the last time I took the quiz. So I should probably remove that.|||So I've kind of been typed but it seems to change, or there are too many discrepancies. So I need some help.I was told to fill this out and post it.  Feel free to ask any additional questions. I...|||I think the idea of wearing the white with a coloured cardigan would work out really well. Its a summer wedding, so it will be nice and light for the pictures.|||I had a t-shirt with this on it!!|||I've never wanted to be a specific superhero, but I have wanted to have specific super-powers, from the X-Men mostly. I would most like to have Dr. Jean Greys telepathic abilities, and a few other...|||I still love Arthur by Marc Brown. I would love to live in that town :) and the house always looks so cheerful, and cozy.|||I eat soda crackers with ketchup.|||Micheal Scofield!! Prison Break. He's hot and my current obsession. But Tomahome from The Mysterious Play is running a close second.|||I don't understand designers. Its as if they flunked anatomy. -- Erma Bombeck'\",\n",
              "       ...,\n",
              "       'different ethereal one moment next moment know cant make plan invest effort almost anything relationship sometimes live self absorb full care others superficially like others entertain novey find place kind accessory course adapt adapt almost everything course affect area way endure relationship soyou consider want time well maybe like end learn choose lose cant want time suggest listen gainsay say want want let choose want without take place unmotivated behavior work part whole thing life also truly equal really want really honest much easy le drain guess also consider subconscious behavior probably sabotage partner know sound bad enfp time say start criticize attempt something way way others thats someone like hind interrupt thing obviously cannot complete task come ask get angry say well distract go oh tell bussy like know already frustrate thats feel experience date enfp hope help sexually attract woman disgust ignorance useless fact lead breakthrough knowledge spatially aware enough get run want sorry feel ignore work new theory square circle start try explain go give suggestion probably feel helpless close emotional support preserve might think enough istp capable empathy care affection whatever else like feel type issue come function become difficu challenge rationalize circumstance stop think introduce pain live much place issue come fact cuivating happiness life let close ex despondency big key choice close make become distant im demand say nice word demand nature exact phrase would say would say hide fact choose say nice thing need say believe nothing outside individual choice prevent say nice thing supportive suggest get help regardless choose part support system respect choice continue work eventually may lead separation work okay live life interest figure pattern process luxuriate data rarely patience collect data try delegate automate much possible data optimally organize look exception try figure behind maybe research research sake thing incline outside manipulation data figure way call efficiently need moment immediate concern make sense istp zone efficient others look like lazy sob happen time work work already yes yes sit back foot desk cue netflix laptop assume family parent sibling kid recommend get lose disappear least without let others know ruin everyone vacation probably find get le chance recharge consequence figure would enjoy let family know could probably come compromise example would prefer wander around take photo explore museum rest beach could ask time thing want alone ask agree schedule know expect back however really want stay hotel room feign illness u wot regardless personal belief strongly target civilian arm conflict wrong end excuse irst strictly true euro popularity fall sharply among crisis hit country even tell either idiot see connection afraid repercussion exit monetary union would entail like like concept monetary union hope strict regulation future prevent happen pure curiosity lead something study sort write paper cue marvin gaye sexual heal yes notice instinctual subtypes delve much consider progression entirely sure significance three instinct thank much second link look quite fascinate give something muse georgia sit council europe geographically part europe politically post may seem bite hard follow apologize',\n",
              "       'body possible rather hand even know kurdish solidarity march late go dad piss one day get point kick door break middle toe completely wrong question right question queensland state government try make commonweah government financially responsible state responsibility really like especially dog cat ok turtle think fish home alright family call dr dolittle think vet apparently natural animal personally mind pet prefer one cat one dog time experience every hendrix probably sp incredible natural talent think isfp istps make good hippy sex drug rocknroll lay back lifestyle spread message peace love whatnot isfp hippy thing dominate mostly physical gotta keep trap yap happy fun time switch disgustingly positive cheery anti air ex dp stand jab enough time could aa st hp find quite difficu karin weakness incredibly strong grind game damage rush frame trap amaze anti air gotta give something street fighter god hate loud noise especially people talk loudly still school environment extrovert talk loudly sit try cover ear look insane right plenty leave write right eye dominance speak worth course long still capable affectionate tell go head one favourite version absolutely stun album version dark scary remind nin sinister live one beautiful thing ever amaze different distinct quality ah time year venezuela really desperate character intj huh resort call character phony fake alpha male intj friend come one two friend wait bjork troll infp accuse u troll troll infp think edit wtf find next tattoo mad suck te nothing math might onto something might learn good concrete example mbti hardly anything failure top get new hobby introversion scar hobby love pick money likely alone trust friend three people basically feel like much offer intuitives wait till need real solution real problem glad nah seriously always need provide something others sometimes good enough worry much likely already appreciate thing even know understand thing anything istp interest must pretty lucky meet one infj mature one mention thing think know fe honestly feel anything lol kind like uhh okay play along think true xd think intj like fi rely lot abstinent get marry bad thing shoot pursue zealotry realize actually cause harm area life narrow mind aspiration regard sex want really matter experience someone identical post back scroll istp within fortnight think think really read much though good way explain inferior fe alright exactly mild drink get sick like drink whole bottle cheap tequila fish boat storm save time type like guy except need breath rational thought one snicker bar good jeez people type personality moral problem knowledge logical think intellect feel laugh think wrong would like ask people wrong normie mother party girl iq may high predictor financial success entirely possible mere coincidence plenty people average iq successful plenty high iq individual live parent basement one think iq much success drive willpower execution determine success perhaps iq quality link high iq benefit promote drive willpower execution overall anyone common sense love perseverance learn well life someone high iq guess heahy know bother stupid shit drama unless really anything still drink',\n",
              "       'sport team ridiculous behaviour identification team people know care exist assert performance somehow make superior someone support le successful team weird find weird team eventually switch people root name particular reason mean understandable follow certain group people hope win fun watch history something unfold different team point dear responder daily beast classify tabloid newspaper even automatically deem unreliable big dent credibility article paper report past week two however nonetheless report express reasonable degree caution approach subject caution probably take great care mirror take claim counter source seriously fill whataboutisms evil homophobic ukraine nazi address anything concrete manner pit word journalist word person would come look bad solid criticism levy whole thing opinion single source nothing hear anti gay law since allege vote th september mean believe exist clearly significant reactionary uranationalist element within separatist movement istp job close fuck bad think ever use receptionist nurse home basically spend shift non technical busy paper work constantly interact people feel bipolar work might think dissociative identity disorder milkin sweet sweet casherola edit op well like philippine primetime ever great every series release mediocre best though obviously strong feel towards beast learn sense wonder reverence desire know work plus happy spend time oppose people point introversion ne ni seem scholarly ground imo nf would go grain like plus seem problem solve ability entp would well seem like depression stuff like common matter istps life honestly talk experience accord happy keep personal relationship jesus skepticism aside christianity work truth tell personal relationship pray read praise make difference whenever stop start crumble start feel miserable thats way work bruh deep bruh ritual thing haha ritual either halloween hold say free stuff holiday go die fire birthday mean little especially always exam final oh esoteric person ever get gift money appreciate forgettable wow basically every single day year pretty much identical real point month season dunno like flair add different time year fall halloween winter christmas spring birthday summer break like cycle nice russian propaganda problem actually wonder someone recognize inconsistency limit lens others evaluate another venue others project positive negative interpretation type tend wonder simply double speak someone dependent others ass self contradictory breath troll admittedly take voyeuristic approach type thread reason op mention entirely sure laugh intp close friend truly relate intjs use hang group intjs lot high school really fe could around like around one sort lay back super competitive guess kind tie group together way like around like thing also help become bite assertive goal orient would get waay bad grade get one hell slack would sort compete one help get shit together ou w ou project insecurity think point honestly give fuck mention post want place stay intact kind difficu sole active mod hell bend destroy give shit nuke site cause guy bore point give shit think attitude towards place different ou loser care keep community alive ou think super hero dumb little world really enjoy reddit site enjoy mbti best interest keep sub alive however possible really super hero need keep'],\n",
              "      dtype=object)"
            ]
          },
          "metadata": {},
          "execution_count": 138
        }
      ]
    },
    {
      "cell_type": "code",
      "source": [
        "y_resampled_reshape"
      ],
      "metadata": {
        "colab": {
          "base_uri": "https://localhost:8080/"
        },
        "id": "KEjLkxgdSJke",
        "outputId": "d233b38c-4101-47b2-f567-b3e31d569b4e"
      },
      "execution_count": 139,
      "outputs": [
        {
          "output_type": "execute_result",
          "data": {
            "text/plain": [
              "array(['ENFJ', 'ENFJ', 'ENFJ', ..., 'ISTP', 'ISTP', 'ISTP'], dtype=object)"
            ]
          },
          "metadata": {},
          "execution_count": 139
        }
      ]
    },
    {
      "cell_type": "markdown",
      "metadata": {
        "id": "i-O7lCJ7yTxS"
      },
      "source": [
        "## **TF-IDF Vectorizer**\n",
        "\n",
        "*   TF(Term Frequency) : 특정 단어가 등장하는 횟수\n",
        "*   IDF(Inverse Document Frequency) : 특정 단어가 몇 개의 Document에서 등장하는지의 역수\n",
        "\n",
        "\n",
        "*   TF-IDF = TF*IDF\n",
        "\n"
      ]
    },
    {
      "cell_type": "code",
      "execution_count": 140,
      "metadata": {
        "id": "P9HYJ7vaySDE"
      },
      "outputs": [],
      "source": [
        "# 벡터화\n",
        "tfidf = TfidfVectorizer()\n",
        "\n",
        "# 훈련 데이터 벡터화\n",
        "X_train_tfidf = tfidf.fit_transform(X_resampled_reshape)"
      ]
    },
    {
      "cell_type": "markdown",
      "metadata": {
        "id": "B0nvzMyv0DKK"
      },
      "source": [
        "Grid Search"
      ]
    },
    {
      "cell_type": "code",
      "execution_count": 141,
      "metadata": {
        "id": "dLVlbd0N0Cyr"
      },
      "outputs": [],
      "source": [
        "clf = LinearSVC()\n",
        "# 정확도 기준 설정\n",
        "cv = GridSearchCV(clf, {'C': [0.1, 0.3, 0.5, 1.0]}, scoring = \"accuracy\")\n",
        "\n",
        "text_clf = Pipeline([('tfidf',TfidfVectorizer()),('clf',cv)])\n",
        "text_clf.fit(X_resampled_reshape, y_resampled_reshape)\n",
        "\n",
        "C = cv.best_estimator_.C"
      ]
    },
    {
      "cell_type": "code",
      "execution_count": 142,
      "metadata": {
        "id": "DOswvrN600El",
        "colab": {
          "base_uri": "https://localhost:8080/"
        },
        "outputId": "27020900-a332-4fa8-ad14-94bba18712a7"
      },
      "outputs": [
        {
          "output_type": "stream",
          "name": "stdout",
          "text": [
            "최적의 파라미터 C :  0.3\n"
          ]
        }
      ],
      "source": [
        "print(\"최적의 파라미터 C : \", C)"
      ]
    },
    {
      "cell_type": "markdown",
      "metadata": {
        "id": "LdGP15uG05oo"
      },
      "source": [
        "2. Validation Accuracy 확인"
      ]
    },
    {
      "cell_type": "code",
      "execution_count": 143,
      "metadata": {
        "id": "Hs6nOsIo043P",
        "colab": {
          "base_uri": "https://localhost:8080/",
          "height": 126
        },
        "outputId": "11903c96-b672-4a4b-ef11-ae35a3581cea"
      },
      "outputs": [
        {
          "output_type": "execute_result",
          "data": {
            "text/plain": [
              "Pipeline(steps=[('tfidf', TfidfVectorizer()), ('clf', LinearSVC(C=0.3))])"
            ],
            "text/html": [
              "<style>#sk-container-id-5 {color: black;background-color: white;}#sk-container-id-5 pre{padding: 0;}#sk-container-id-5 div.sk-toggleable {background-color: white;}#sk-container-id-5 label.sk-toggleable__label {cursor: pointer;display: block;width: 100%;margin-bottom: 0;padding: 0.3em;box-sizing: border-box;text-align: center;}#sk-container-id-5 label.sk-toggleable__label-arrow:before {content: \"▸\";float: left;margin-right: 0.25em;color: #696969;}#sk-container-id-5 label.sk-toggleable__label-arrow:hover:before {color: black;}#sk-container-id-5 div.sk-estimator:hover label.sk-toggleable__label-arrow:before {color: black;}#sk-container-id-5 div.sk-toggleable__content {max-height: 0;max-width: 0;overflow: hidden;text-align: left;background-color: #f0f8ff;}#sk-container-id-5 div.sk-toggleable__content pre {margin: 0.2em;color: black;border-radius: 0.25em;background-color: #f0f8ff;}#sk-container-id-5 input.sk-toggleable__control:checked~div.sk-toggleable__content {max-height: 200px;max-width: 100%;overflow: auto;}#sk-container-id-5 input.sk-toggleable__control:checked~label.sk-toggleable__label-arrow:before {content: \"▾\";}#sk-container-id-5 div.sk-estimator input.sk-toggleable__control:checked~label.sk-toggleable__label {background-color: #d4ebff;}#sk-container-id-5 div.sk-label input.sk-toggleable__control:checked~label.sk-toggleable__label {background-color: #d4ebff;}#sk-container-id-5 input.sk-hidden--visually {border: 0;clip: rect(1px 1px 1px 1px);clip: rect(1px, 1px, 1px, 1px);height: 1px;margin: -1px;overflow: hidden;padding: 0;position: absolute;width: 1px;}#sk-container-id-5 div.sk-estimator {font-family: monospace;background-color: #f0f8ff;border: 1px dotted black;border-radius: 0.25em;box-sizing: border-box;margin-bottom: 0.5em;}#sk-container-id-5 div.sk-estimator:hover {background-color: #d4ebff;}#sk-container-id-5 div.sk-parallel-item::after {content: \"\";width: 100%;border-bottom: 1px solid gray;flex-grow: 1;}#sk-container-id-5 div.sk-label:hover label.sk-toggleable__label {background-color: #d4ebff;}#sk-container-id-5 div.sk-serial::before {content: \"\";position: absolute;border-left: 1px solid gray;box-sizing: border-box;top: 0;bottom: 0;left: 50%;z-index: 0;}#sk-container-id-5 div.sk-serial {display: flex;flex-direction: column;align-items: center;background-color: white;padding-right: 0.2em;padding-left: 0.2em;position: relative;}#sk-container-id-5 div.sk-item {position: relative;z-index: 1;}#sk-container-id-5 div.sk-parallel {display: flex;align-items: stretch;justify-content: center;background-color: white;position: relative;}#sk-container-id-5 div.sk-item::before, #sk-container-id-5 div.sk-parallel-item::before {content: \"\";position: absolute;border-left: 1px solid gray;box-sizing: border-box;top: 0;bottom: 0;left: 50%;z-index: -1;}#sk-container-id-5 div.sk-parallel-item {display: flex;flex-direction: column;z-index: 1;position: relative;background-color: white;}#sk-container-id-5 div.sk-parallel-item:first-child::after {align-self: flex-end;width: 50%;}#sk-container-id-5 div.sk-parallel-item:last-child::after {align-self: flex-start;width: 50%;}#sk-container-id-5 div.sk-parallel-item:only-child::after {width: 0;}#sk-container-id-5 div.sk-dashed-wrapped {border: 1px dashed gray;margin: 0 0.4em 0.5em 0.4em;box-sizing: border-box;padding-bottom: 0.4em;background-color: white;}#sk-container-id-5 div.sk-label label {font-family: monospace;font-weight: bold;display: inline-block;line-height: 1.2em;}#sk-container-id-5 div.sk-label-container {text-align: center;}#sk-container-id-5 div.sk-container {/* jupyter's `normalize.less` sets `[hidden] { display: none; }` but bootstrap.min.css set `[hidden] { display: none !important; }` so we also need the `!important` here to be able to override the default hidden behavior on the sphinx rendered scikit-learn.org. See: https://github.com/scikit-learn/scikit-learn/issues/21755 */display: inline-block !important;position: relative;}#sk-container-id-5 div.sk-text-repr-fallback {display: none;}</style><div id=\"sk-container-id-5\" class=\"sk-top-container\"><div class=\"sk-text-repr-fallback\"><pre>Pipeline(steps=[(&#x27;tfidf&#x27;, TfidfVectorizer()), (&#x27;clf&#x27;, LinearSVC(C=0.3))])</pre><b>In a Jupyter environment, please rerun this cell to show the HTML representation or trust the notebook. <br />On GitHub, the HTML representation is unable to render, please try loading this page with nbviewer.org.</b></div><div class=\"sk-container\" hidden><div class=\"sk-item sk-dashed-wrapped\"><div class=\"sk-label-container\"><div class=\"sk-label sk-toggleable\"><input class=\"sk-toggleable__control sk-hidden--visually\" id=\"sk-estimator-id-13\" type=\"checkbox\" ><label for=\"sk-estimator-id-13\" class=\"sk-toggleable__label sk-toggleable__label-arrow\">Pipeline</label><div class=\"sk-toggleable__content\"><pre>Pipeline(steps=[(&#x27;tfidf&#x27;, TfidfVectorizer()), (&#x27;clf&#x27;, LinearSVC(C=0.3))])</pre></div></div></div><div class=\"sk-serial\"><div class=\"sk-item\"><div class=\"sk-estimator sk-toggleable\"><input class=\"sk-toggleable__control sk-hidden--visually\" id=\"sk-estimator-id-14\" type=\"checkbox\" ><label for=\"sk-estimator-id-14\" class=\"sk-toggleable__label sk-toggleable__label-arrow\">TfidfVectorizer</label><div class=\"sk-toggleable__content\"><pre>TfidfVectorizer()</pre></div></div></div><div class=\"sk-item\"><div class=\"sk-estimator sk-toggleable\"><input class=\"sk-toggleable__control sk-hidden--visually\" id=\"sk-estimator-id-15\" type=\"checkbox\" ><label for=\"sk-estimator-id-15\" class=\"sk-toggleable__label sk-toggleable__label-arrow\">LinearSVC</label><div class=\"sk-toggleable__content\"><pre>LinearSVC(C=0.3)</pre></div></div></div></div></div></div></div>"
            ]
          },
          "metadata": {},
          "execution_count": 143
        }
      ],
      "source": [
        "text_clf = Pipeline([('tfidf',TfidfVectorizer()),('clf',LinearSVC(C=0.3))])\n",
        "text_clf.fit(X_resampled_reshape, y_resampled_reshape)"
      ]
    },
    {
      "cell_type": "code",
      "execution_count": 144,
      "metadata": {
        "id": "88zXNv_F1pkx"
      },
      "outputs": [],
      "source": [
        "# valid 데이터의 mbti 예측\n",
        "pred = text_clf.predict(X_valid_reshape)"
      ]
    },
    {
      "cell_type": "code",
      "execution_count": 145,
      "metadata": {
        "id": "wFvH1Eyb1viE",
        "colab": {
          "base_uri": "https://localhost:8080/"
        },
        "outputId": "1b5ca116-61a3-4fda-c0d5-550962be0092"
      },
      "outputs": [
        {
          "output_type": "execute_result",
          "data": {
            "text/plain": [
              "0.6820776504422851"
            ]
          },
          "metadata": {},
          "execution_count": 145
        }
      ],
      "source": [
        "# valid data에서의 정확도\n",
        "accuracy_score(pred, y_valid_reshape)"
      ]
    },
    {
      "cell_type": "code",
      "source": [
        "from sklearn.metrics import classification_report\n",
        "print(classification_report(y_valid_reshape, pred))"
      ],
      "metadata": {
        "colab": {
          "base_uri": "https://localhost:8080/"
        },
        "id": "Dlkes_Olvyk8",
        "outputId": "bbc140a6-e9ec-40c4-9999-32548abfedd7"
      },
      "execution_count": 146,
      "outputs": [
        {
          "output_type": "stream",
          "name": "stdout",
          "text": [
            "              precision    recall  f1-score   support\n",
            "\n",
            "        ENFJ       0.44      0.72      0.55       358\n",
            "        ENFP       0.63      0.73      0.68      1352\n",
            "        ENTJ       0.60      0.80      0.69       660\n",
            "        ENTP       0.80      0.68      0.73      2483\n",
            "        ESFJ       0.13      0.84      0.22        43\n",
            "        ESFP       0.23      0.88      0.37        73\n",
            "        ESTJ       0.66      0.82      0.73       118\n",
            "        ESTP       0.49      0.90      0.63       426\n",
            "        INFJ       0.78      0.65      0.71      3315\n",
            "        INFP       0.78      0.65      0.71      2734\n",
            "        INTJ       0.80      0.66      0.72      4786\n",
            "        INTP       0.81      0.67      0.73      5199\n",
            "        ISFJ       0.21      0.78      0.33       147\n",
            "        ISFP       0.23      0.71      0.35       241\n",
            "        ISTJ       0.24      0.75      0.37       279\n",
            "        ISTP       0.60      0.77      0.67       735\n",
            "\n",
            "    accuracy                           0.68     22949\n",
            "   macro avg       0.53      0.75      0.57     22949\n",
            "weighted avg       0.74      0.68      0.70     22949\n",
            "\n"
          ]
        }
      ]
    },
    {
      "cell_type": "code",
      "execution_count": 147,
      "metadata": {
        "id": "u2MLPE1p66__"
      },
      "outputs": [],
      "source": [
        "y_valid_list = list(y_valid_reshape)"
      ]
    },
    {
      "cell_type": "code",
      "execution_count": 148,
      "metadata": {
        "id": "ecv4WvLc7DYW",
        "colab": {
          "base_uri": "https://localhost:8080/"
        },
        "outputId": "07601358-67ac-4764-c392-7850d41155af"
      },
      "outputs": [
        {
          "output_type": "stream",
          "name": "stdout",
          "text": [
            "첫 번째 글자의 정확도 :  0.860734672534751\n"
          ]
        }
      ],
      "source": [
        "num = 0\n",
        "for i in range(len(y_valid_reshape)):\n",
        "    if y_valid_list[i][0] == pred[i][0]:\n",
        "        num+=1\n",
        "print(\"첫 번째 글자의 정확도 : \", num/len(y_valid_reshape))\n"
      ]
    },
    {
      "cell_type": "code",
      "execution_count": 149,
      "metadata": {
        "id": "PCX196W07DMT",
        "colab": {
          "base_uri": "https://localhost:8080/"
        },
        "outputId": "53ebf68f-3fd8-4d8a-b630-478cc107b89c"
      },
      "outputs": [
        {
          "output_type": "stream",
          "name": "stdout",
          "text": [
            "두 번째 글자의 정확도 :  0.875419408253083\n"
          ]
        }
      ],
      "source": [
        "num = 0\n",
        "for i in range(len(y_valid_reshape)):\n",
        "    if y_valid_list[i][1] == pred[i][1]:\n",
        "        num+=1\n",
        "print(\"두 번째 글자의 정확도 : \", num/len(y_valid_reshape))"
      ]
    },
    {
      "cell_type": "code",
      "execution_count": 150,
      "metadata": {
        "id": "Kmorm7bQ7DJa",
        "colab": {
          "base_uri": "https://localhost:8080/"
        },
        "outputId": "f72f0b70-4d75-4d6e-856f-eb0f0d892d61"
      },
      "outputs": [
        {
          "output_type": "stream",
          "name": "stdout",
          "text": [
            "세 번째 글자의 정확도 :  0.880343370081485\n"
          ]
        }
      ],
      "source": [
        "num = 0\n",
        "for i in range(len(y_valid_reshape)):\n",
        "    if y_valid_list[i][2] == pred[i][2]:\n",
        "        num+=1\n",
        "print(\"세 번째 글자의 정확도 : \", num/len(y_valid_reshape))"
      ]
    },
    {
      "cell_type": "code",
      "execution_count": 151,
      "metadata": {
        "id": "nWmP75ZX7DG_",
        "colab": {
          "base_uri": "https://localhost:8080/"
        },
        "outputId": "281fb879-7cbd-41e9-fb11-a9a3a96d61d0"
      },
      "outputs": [
        {
          "output_type": "stream",
          "name": "stdout",
          "text": [
            "네 번째 글자의 정확도 :  0.8223452002265894\n"
          ]
        }
      ],
      "source": [
        "num = 0\n",
        "for i in range(len(y_valid_reshape)):\n",
        "    if y_valid_list[i][3] == pred[i][3]:\n",
        "        num+=1\n",
        "print(\"네 번째 글자의 정확도 : \", num/len(y_valid_reshape))"
      ]
    },
    {
      "cell_type": "code",
      "execution_count": 153,
      "metadata": {
        "id": "k62xmFTd7gO6"
      },
      "outputs": [],
      "source": [
        "# 모든 설명변수 데이터 X 자연어처리\n",
        "X_tfidf = tfidf.fit_transform(X_reshape)"
      ]
    },
    {
      "cell_type": "code",
      "execution_count": 154,
      "metadata": {
        "id": "MpK3iQXn7hPU",
        "colab": {
          "base_uri": "https://localhost:8080/",
          "height": 126
        },
        "outputId": "f6fb2b37-5957-429a-c378-0df491d9a5d3"
      },
      "outputs": [
        {
          "output_type": "execute_result",
          "data": {
            "text/plain": [
              "Pipeline(steps=[('tfidf', TfidfVectorizer()), ('clf', LinearSVC(C=0.3))])"
            ],
            "text/html": [
              "<style>#sk-container-id-6 {color: black;background-color: white;}#sk-container-id-6 pre{padding: 0;}#sk-container-id-6 div.sk-toggleable {background-color: white;}#sk-container-id-6 label.sk-toggleable__label {cursor: pointer;display: block;width: 100%;margin-bottom: 0;padding: 0.3em;box-sizing: border-box;text-align: center;}#sk-container-id-6 label.sk-toggleable__label-arrow:before {content: \"▸\";float: left;margin-right: 0.25em;color: #696969;}#sk-container-id-6 label.sk-toggleable__label-arrow:hover:before {color: black;}#sk-container-id-6 div.sk-estimator:hover label.sk-toggleable__label-arrow:before {color: black;}#sk-container-id-6 div.sk-toggleable__content {max-height: 0;max-width: 0;overflow: hidden;text-align: left;background-color: #f0f8ff;}#sk-container-id-6 div.sk-toggleable__content pre {margin: 0.2em;color: black;border-radius: 0.25em;background-color: #f0f8ff;}#sk-container-id-6 input.sk-toggleable__control:checked~div.sk-toggleable__content {max-height: 200px;max-width: 100%;overflow: auto;}#sk-container-id-6 input.sk-toggleable__control:checked~label.sk-toggleable__label-arrow:before {content: \"▾\";}#sk-container-id-6 div.sk-estimator input.sk-toggleable__control:checked~label.sk-toggleable__label {background-color: #d4ebff;}#sk-container-id-6 div.sk-label input.sk-toggleable__control:checked~label.sk-toggleable__label {background-color: #d4ebff;}#sk-container-id-6 input.sk-hidden--visually {border: 0;clip: rect(1px 1px 1px 1px);clip: rect(1px, 1px, 1px, 1px);height: 1px;margin: -1px;overflow: hidden;padding: 0;position: absolute;width: 1px;}#sk-container-id-6 div.sk-estimator {font-family: monospace;background-color: #f0f8ff;border: 1px dotted black;border-radius: 0.25em;box-sizing: border-box;margin-bottom: 0.5em;}#sk-container-id-6 div.sk-estimator:hover {background-color: #d4ebff;}#sk-container-id-6 div.sk-parallel-item::after {content: \"\";width: 100%;border-bottom: 1px solid gray;flex-grow: 1;}#sk-container-id-6 div.sk-label:hover label.sk-toggleable__label {background-color: #d4ebff;}#sk-container-id-6 div.sk-serial::before {content: \"\";position: absolute;border-left: 1px solid gray;box-sizing: border-box;top: 0;bottom: 0;left: 50%;z-index: 0;}#sk-container-id-6 div.sk-serial {display: flex;flex-direction: column;align-items: center;background-color: white;padding-right: 0.2em;padding-left: 0.2em;position: relative;}#sk-container-id-6 div.sk-item {position: relative;z-index: 1;}#sk-container-id-6 div.sk-parallel {display: flex;align-items: stretch;justify-content: center;background-color: white;position: relative;}#sk-container-id-6 div.sk-item::before, #sk-container-id-6 div.sk-parallel-item::before {content: \"\";position: absolute;border-left: 1px solid gray;box-sizing: border-box;top: 0;bottom: 0;left: 50%;z-index: -1;}#sk-container-id-6 div.sk-parallel-item {display: flex;flex-direction: column;z-index: 1;position: relative;background-color: white;}#sk-container-id-6 div.sk-parallel-item:first-child::after {align-self: flex-end;width: 50%;}#sk-container-id-6 div.sk-parallel-item:last-child::after {align-self: flex-start;width: 50%;}#sk-container-id-6 div.sk-parallel-item:only-child::after {width: 0;}#sk-container-id-6 div.sk-dashed-wrapped {border: 1px dashed gray;margin: 0 0.4em 0.5em 0.4em;box-sizing: border-box;padding-bottom: 0.4em;background-color: white;}#sk-container-id-6 div.sk-label label {font-family: monospace;font-weight: bold;display: inline-block;line-height: 1.2em;}#sk-container-id-6 div.sk-label-container {text-align: center;}#sk-container-id-6 div.sk-container {/* jupyter's `normalize.less` sets `[hidden] { display: none; }` but bootstrap.min.css set `[hidden] { display: none !important; }` so we also need the `!important` here to be able to override the default hidden behavior on the sphinx rendered scikit-learn.org. See: https://github.com/scikit-learn/scikit-learn/issues/21755 */display: inline-block !important;position: relative;}#sk-container-id-6 div.sk-text-repr-fallback {display: none;}</style><div id=\"sk-container-id-6\" class=\"sk-top-container\"><div class=\"sk-text-repr-fallback\"><pre>Pipeline(steps=[(&#x27;tfidf&#x27;, TfidfVectorizer()), (&#x27;clf&#x27;, LinearSVC(C=0.3))])</pre><b>In a Jupyter environment, please rerun this cell to show the HTML representation or trust the notebook. <br />On GitHub, the HTML representation is unable to render, please try loading this page with nbviewer.org.</b></div><div class=\"sk-container\" hidden><div class=\"sk-item sk-dashed-wrapped\"><div class=\"sk-label-container\"><div class=\"sk-label sk-toggleable\"><input class=\"sk-toggleable__control sk-hidden--visually\" id=\"sk-estimator-id-16\" type=\"checkbox\" ><label for=\"sk-estimator-id-16\" class=\"sk-toggleable__label sk-toggleable__label-arrow\">Pipeline</label><div class=\"sk-toggleable__content\"><pre>Pipeline(steps=[(&#x27;tfidf&#x27;, TfidfVectorizer()), (&#x27;clf&#x27;, LinearSVC(C=0.3))])</pre></div></div></div><div class=\"sk-serial\"><div class=\"sk-item\"><div class=\"sk-estimator sk-toggleable\"><input class=\"sk-toggleable__control sk-hidden--visually\" id=\"sk-estimator-id-17\" type=\"checkbox\" ><label for=\"sk-estimator-id-17\" class=\"sk-toggleable__label sk-toggleable__label-arrow\">TfidfVectorizer</label><div class=\"sk-toggleable__content\"><pre>TfidfVectorizer()</pre></div></div></div><div class=\"sk-item\"><div class=\"sk-estimator sk-toggleable\"><input class=\"sk-toggleable__control sk-hidden--visually\" id=\"sk-estimator-id-18\" type=\"checkbox\" ><label for=\"sk-estimator-id-18\" class=\"sk-toggleable__label sk-toggleable__label-arrow\">LinearSVC</label><div class=\"sk-toggleable__content\"><pre>LinearSVC(C=0.3)</pre></div></div></div></div></div></div></div>"
            ]
          },
          "metadata": {},
          "execution_count": 154
        }
      ],
      "source": [
        "svc_clf = Pipeline([('tfidf',TfidfVectorizer()),('clf',LinearSVC(C=0.3))])\n",
        "svc_clf.fit(X_reshape, Y_reshape)"
      ]
    },
    {
      "cell_type": "code",
      "source": [
        "pred_svc = svc_clf.predict(test['posts'])"
      ],
      "metadata": {
        "id": "laLknUTH3orl"
      },
      "execution_count": 155,
      "outputs": []
    },
    {
      "cell_type": "code",
      "source": [
        "test_pred = pd.DataFrame(pred_svc)"
      ],
      "metadata": {
        "id": "V_ftUalD3xhq"
      },
      "execution_count": 156,
      "outputs": []
    },
    {
      "cell_type": "code",
      "source": [
        "test_pred"
      ],
      "metadata": {
        "colab": {
          "base_uri": "https://localhost:8080/",
          "height": 424
        },
        "id": "BQFJTRGL3xWb",
        "outputId": "e73bf468-eac3-4f80-f8cc-f600a69ea436"
      },
      "execution_count": 157,
      "outputs": [
        {
          "output_type": "execute_result",
          "data": {
            "text/plain": [
              "           0\n",
              "0       INTJ\n",
              "1       INTJ\n",
              "2       INTJ\n",
              "3       INTJ\n",
              "4       INTJ\n",
              "...      ...\n",
              "114737  INTP\n",
              "114738  ENFP\n",
              "114739  INTP\n",
              "114740  INFP\n",
              "114741  INFP\n",
              "\n",
              "[114742 rows x 1 columns]"
            ],
            "text/html": [
              "\n",
              "\n",
              "  <div id=\"df-84cc4d7f-2267-47ed-94a4-0aafd9657412\">\n",
              "    <div class=\"colab-df-container\">\n",
              "      <div>\n",
              "<style scoped>\n",
              "    .dataframe tbody tr th:only-of-type {\n",
              "        vertical-align: middle;\n",
              "    }\n",
              "\n",
              "    .dataframe tbody tr th {\n",
              "        vertical-align: top;\n",
              "    }\n",
              "\n",
              "    .dataframe thead th {\n",
              "        text-align: right;\n",
              "    }\n",
              "</style>\n",
              "<table border=\"1\" class=\"dataframe\">\n",
              "  <thead>\n",
              "    <tr style=\"text-align: right;\">\n",
              "      <th></th>\n",
              "      <th>0</th>\n",
              "    </tr>\n",
              "  </thead>\n",
              "  <tbody>\n",
              "    <tr>\n",
              "      <th>0</th>\n",
              "      <td>INTJ</td>\n",
              "    </tr>\n",
              "    <tr>\n",
              "      <th>1</th>\n",
              "      <td>INTJ</td>\n",
              "    </tr>\n",
              "    <tr>\n",
              "      <th>2</th>\n",
              "      <td>INTJ</td>\n",
              "    </tr>\n",
              "    <tr>\n",
              "      <th>3</th>\n",
              "      <td>INTJ</td>\n",
              "    </tr>\n",
              "    <tr>\n",
              "      <th>4</th>\n",
              "      <td>INTJ</td>\n",
              "    </tr>\n",
              "    <tr>\n",
              "      <th>...</th>\n",
              "      <td>...</td>\n",
              "    </tr>\n",
              "    <tr>\n",
              "      <th>114737</th>\n",
              "      <td>INTP</td>\n",
              "    </tr>\n",
              "    <tr>\n",
              "      <th>114738</th>\n",
              "      <td>ENFP</td>\n",
              "    </tr>\n",
              "    <tr>\n",
              "      <th>114739</th>\n",
              "      <td>INTP</td>\n",
              "    </tr>\n",
              "    <tr>\n",
              "      <th>114740</th>\n",
              "      <td>INFP</td>\n",
              "    </tr>\n",
              "    <tr>\n",
              "      <th>114741</th>\n",
              "      <td>INFP</td>\n",
              "    </tr>\n",
              "  </tbody>\n",
              "</table>\n",
              "<p>114742 rows × 1 columns</p>\n",
              "</div>\n",
              "      <button class=\"colab-df-convert\" onclick=\"convertToInteractive('df-84cc4d7f-2267-47ed-94a4-0aafd9657412')\"\n",
              "              title=\"Convert this dataframe to an interactive table.\"\n",
              "              style=\"display:none;\">\n",
              "\n",
              "  <svg xmlns=\"http://www.w3.org/2000/svg\" height=\"24px\"viewBox=\"0 0 24 24\"\n",
              "       width=\"24px\">\n",
              "    <path d=\"M0 0h24v24H0V0z\" fill=\"none\"/>\n",
              "    <path d=\"M18.56 5.44l.94 2.06.94-2.06 2.06-.94-2.06-.94-.94-2.06-.94 2.06-2.06.94zm-11 1L8.5 8.5l.94-2.06 2.06-.94-2.06-.94L8.5 2.5l-.94 2.06-2.06.94zm10 10l.94 2.06.94-2.06 2.06-.94-2.06-.94-.94-2.06-.94 2.06-2.06.94z\"/><path d=\"M17.41 7.96l-1.37-1.37c-.4-.4-.92-.59-1.43-.59-.52 0-1.04.2-1.43.59L10.3 9.45l-7.72 7.72c-.78.78-.78 2.05 0 2.83L4 21.41c.39.39.9.59 1.41.59.51 0 1.02-.2 1.41-.59l7.78-7.78 2.81-2.81c.8-.78.8-2.07 0-2.86zM5.41 20L4 18.59l7.72-7.72 1.47 1.35L5.41 20z\"/>\n",
              "  </svg>\n",
              "      </button>\n",
              "\n",
              "\n",
              "\n",
              "    <div id=\"df-eaf9b02a-778e-4ece-96ba-03f364a5dcd4\">\n",
              "      <button class=\"colab-df-quickchart\" onclick=\"quickchart('df-eaf9b02a-778e-4ece-96ba-03f364a5dcd4')\"\n",
              "              title=\"Suggest charts.\"\n",
              "              style=\"display:none;\">\n",
              "\n",
              "<svg xmlns=\"http://www.w3.org/2000/svg\" height=\"24px\"viewBox=\"0 0 24 24\"\n",
              "     width=\"24px\">\n",
              "    <g>\n",
              "        <path d=\"M19 3H5c-1.1 0-2 .9-2 2v14c0 1.1.9 2 2 2h14c1.1 0 2-.9 2-2V5c0-1.1-.9-2-2-2zM9 17H7v-7h2v7zm4 0h-2V7h2v10zm4 0h-2v-4h2v4z\"/>\n",
              "    </g>\n",
              "</svg>\n",
              "      </button>\n",
              "    </div>\n",
              "\n",
              "<style>\n",
              "  .colab-df-quickchart {\n",
              "    background-color: #E8F0FE;\n",
              "    border: none;\n",
              "    border-radius: 50%;\n",
              "    cursor: pointer;\n",
              "    display: none;\n",
              "    fill: #1967D2;\n",
              "    height: 32px;\n",
              "    padding: 0 0 0 0;\n",
              "    width: 32px;\n",
              "  }\n",
              "\n",
              "  .colab-df-quickchart:hover {\n",
              "    background-color: #E2EBFA;\n",
              "    box-shadow: 0px 1px 2px rgba(60, 64, 67, 0.3), 0px 1px 3px 1px rgba(60, 64, 67, 0.15);\n",
              "    fill: #174EA6;\n",
              "  }\n",
              "\n",
              "  [theme=dark] .colab-df-quickchart {\n",
              "    background-color: #3B4455;\n",
              "    fill: #D2E3FC;\n",
              "  }\n",
              "\n",
              "  [theme=dark] .colab-df-quickchart:hover {\n",
              "    background-color: #434B5C;\n",
              "    box-shadow: 0px 1px 3px 1px rgba(0, 0, 0, 0.15);\n",
              "    filter: drop-shadow(0px 1px 2px rgba(0, 0, 0, 0.3));\n",
              "    fill: #FFFFFF;\n",
              "  }\n",
              "</style>\n",
              "\n",
              "    <script>\n",
              "      async function quickchart(key) {\n",
              "        const containerElement = document.querySelector('#' + key);\n",
              "        const charts = await google.colab.kernel.invokeFunction(\n",
              "            'suggestCharts', [key], {});\n",
              "      }\n",
              "    </script>\n",
              "\n",
              "      <script>\n",
              "\n",
              "function displayQuickchartButton(domScope) {\n",
              "  let quickchartButtonEl =\n",
              "    domScope.querySelector('#df-eaf9b02a-778e-4ece-96ba-03f364a5dcd4 button.colab-df-quickchart');\n",
              "  quickchartButtonEl.style.display =\n",
              "    google.colab.kernel.accessAllowed ? 'block' : 'none';\n",
              "}\n",
              "\n",
              "        displayQuickchartButton(document);\n",
              "      </script>\n",
              "      <style>\n",
              "    .colab-df-container {\n",
              "      display:flex;\n",
              "      flex-wrap:wrap;\n",
              "      gap: 12px;\n",
              "    }\n",
              "\n",
              "    .colab-df-convert {\n",
              "      background-color: #E8F0FE;\n",
              "      border: none;\n",
              "      border-radius: 50%;\n",
              "      cursor: pointer;\n",
              "      display: none;\n",
              "      fill: #1967D2;\n",
              "      height: 32px;\n",
              "      padding: 0 0 0 0;\n",
              "      width: 32px;\n",
              "    }\n",
              "\n",
              "    .colab-df-convert:hover {\n",
              "      background-color: #E2EBFA;\n",
              "      box-shadow: 0px 1px 2px rgba(60, 64, 67, 0.3), 0px 1px 3px 1px rgba(60, 64, 67, 0.15);\n",
              "      fill: #174EA6;\n",
              "    }\n",
              "\n",
              "    [theme=dark] .colab-df-convert {\n",
              "      background-color: #3B4455;\n",
              "      fill: #D2E3FC;\n",
              "    }\n",
              "\n",
              "    [theme=dark] .colab-df-convert:hover {\n",
              "      background-color: #434B5C;\n",
              "      box-shadow: 0px 1px 3px 1px rgba(0, 0, 0, 0.15);\n",
              "      filter: drop-shadow(0px 1px 2px rgba(0, 0, 0, 0.3));\n",
              "      fill: #FFFFFF;\n",
              "    }\n",
              "  </style>\n",
              "\n",
              "      <script>\n",
              "        const buttonEl =\n",
              "          document.querySelector('#df-84cc4d7f-2267-47ed-94a4-0aafd9657412 button.colab-df-convert');\n",
              "        buttonEl.style.display =\n",
              "          google.colab.kernel.accessAllowed ? 'block' : 'none';\n",
              "\n",
              "        async function convertToInteractive(key) {\n",
              "          const element = document.querySelector('#df-84cc4d7f-2267-47ed-94a4-0aafd9657412');\n",
              "          const dataTable =\n",
              "            await google.colab.kernel.invokeFunction('convertToInteractive',\n",
              "                                                     [key], {});\n",
              "          if (!dataTable) return;\n",
              "\n",
              "          const docLinkHtml = 'Like what you see? Visit the ' +\n",
              "            '<a target=\"_blank\" href=https://colab.research.google.com/notebooks/data_table.ipynb>data table notebook</a>'\n",
              "            + ' to learn more about interactive tables.';\n",
              "          element.innerHTML = '';\n",
              "          dataTable['output_type'] = 'display_data';\n",
              "          await google.colab.output.renderOutput(dataTable, element);\n",
              "          const docLink = document.createElement('div');\n",
              "          docLink.innerHTML = docLinkHtml;\n",
              "          element.appendChild(docLink);\n",
              "        }\n",
              "      </script>\n",
              "    </div>\n",
              "  </div>\n"
            ]
          },
          "metadata": {},
          "execution_count": 157
        }
      ]
    },
    {
      "cell_type": "markdown",
      "source": [
        "# **모델저장**"
      ],
      "metadata": {
        "id": "TFu3V0z87_M6"
      }
    },
    {
      "cell_type": "code",
      "source": [
        "import pickle\n",
        "\n",
        "with open('saved_model_upgrade', 'wb') as f:\n",
        "    pickle.dump(svc_clf, f)"
      ],
      "metadata": {
        "id": "382zDddT4TaG"
      },
      "execution_count": 161,
      "outputs": []
    },
    {
      "cell_type": "code",
      "source": [
        "accuracy_score(test_pred, Y_reshape)"
      ],
      "metadata": {
        "colab": {
          "base_uri": "https://localhost:8080/"
        },
        "id": "FlI-6pzV7Fqe",
        "outputId": "8b138227-fafa-4809-c795-82a5b0cc7aba"
      },
      "execution_count": 162,
      "outputs": [
        {
          "output_type": "execute_result",
          "data": {
            "text/plain": [
              "0.9289710829513169"
            ]
          },
          "metadata": {},
          "execution_count": 162
        }
      ]
    },
    {
      "cell_type": "code",
      "source": [
        "from sklearn.metrics import classification_report\n",
        "print(classification_report(Y_reshape, test_pred))"
      ],
      "metadata": {
        "colab": {
          "base_uri": "https://localhost:8080/"
        },
        "id": "3jUXpXX78TyQ",
        "outputId": "016e599e-4f60-46f5-e3aa-1776e9160b0c"
      },
      "execution_count": 163,
      "outputs": [
        {
          "output_type": "stream",
          "name": "stdout",
          "text": [
            "              precision    recall  f1-score   support\n",
            "\n",
            "        ENFJ       0.96      0.83      0.89      1724\n",
            "        ENFP       0.94      0.90      0.92      6842\n",
            "        ENTJ       0.97      0.89      0.93      3186\n",
            "        ENTP       0.95      0.92      0.93     12410\n",
            "        ESFJ       0.96      0.69      0.80       223\n",
            "        ESFP       0.97      0.77      0.86       408\n",
            "        ESTJ       0.99      0.92      0.95       521\n",
            "        ESTP       0.99      0.96      0.97      2075\n",
            "        INFJ       0.92      0.93      0.92     16433\n",
            "        INFP       0.90      0.94      0.92     13966\n",
            "        INTJ       0.92      0.94      0.93     23518\n",
            "        INTP       0.92      0.95      0.94     26265\n",
            "        ISFJ       0.97      0.80      0.87       816\n",
            "        ISFP       0.95      0.79      0.86      1146\n",
            "        ISTJ       0.96      0.85      0.90      1448\n",
            "        ISTP       0.96      0.92      0.94      3761\n",
            "\n",
            "    accuracy                           0.93    114742\n",
            "   macro avg       0.95      0.87      0.91    114742\n",
            "weighted avg       0.93      0.93      0.93    114742\n",
            "\n"
          ]
        }
      ]
    }
  ],
  "metadata": {
    "colab": {
      "provenance": [],
      "machine_shape": "hm"
    },
    "kernelspec": {
      "display_name": "Python 3",
      "name": "python3"
    },
    "language_info": {
      "name": "python"
    },
    "accelerator": "TPU"
  },
  "nbformat": 4,
  "nbformat_minor": 0
}